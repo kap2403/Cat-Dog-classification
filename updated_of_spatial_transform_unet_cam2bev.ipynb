{
  "cells": [
    {
      "cell_type": "markdown",
      "metadata": {
        "id": "view-in-github",
        "colab_type": "text"
      },
      "source": [
        "<a href=\"https://colab.research.google.com/github/kap2403/Image-Classification-between-Dogs-and-Cats-in-PyTorch./blob/main/updated_of_spatial_transform_unet_cam2bev.ipynb\" target=\"_parent\"><img src=\"https://colab.research.google.com/assets/colab-badge.svg\" alt=\"Open In Colab\"/></a>"
      ]
    },
    {
      "cell_type": "code",
      "execution_count": 1,
      "metadata": {
        "id": "3d476916"
      },
      "outputs": [],
      "source": [
        "import json\n",
        "import numpy as np\n",
        "import cv2\n",
        "import matplotlib.pyplot as plt\n",
        "import numpy as np\n",
        "import matplotlib.pyplot as plt\n",
        "import numpy as np\n",
        "import cv2\n",
        "import os\n",
        "import pandas as pd\n",
        "import torch\n",
        "import torchvision.models as models\n",
        "from tqdm import tqdm\n",
        "import json\n",
        "import torch\n",
        "from torch.utils.data import Dataset\n",
        "from torchvision import datasets\n",
        "from torchvision.transforms import ToTensor\n",
        "import torchvision.transforms as transforms\n",
        "import torch.nn as nn\n",
        "import torch.nn.functional as F\n",
        "import torch.optim as optim\n",
        "from torch.utils.data import random_split\n",
        "from torch.utils.data import DataLoader\n",
        "import math\n",
        "import itertools\n",
        "import numpy as np\n",
        "import torch.nn as nn\n",
        "import torch.nn.functional as F"
      ],
      "id": "3d476916"
    },
    {
      "cell_type": "code",
      "execution_count": 2,
      "metadata": {
        "id": "2beb22ea"
      },
      "outputs": [],
      "source": [
        "def resize_image(img, shape, interpolation=cv2.INTER_CUBIC):\n",
        "    # resize relevant image axis to length of corresponding target axis while preserving aspect ratio\n",
        "    axis = 0 if float(shape[0]) / float(img.shape[0]) > float(shape[1]) / float(img.shape[1]) else 1\n",
        "    factor = float(shape[axis]) / float(img.shape[axis])\n",
        "    img = cv2.resize(img, (0,0), fx=factor, fy=factor, interpolation=interpolation)\n",
        "\n",
        "    # crop other image axis to match target shape\n",
        "    center = img.shape[int(not axis)] / 2.0\n",
        "    step = shape[int(not axis)] / 2.0\n",
        "    left = int(center-step)\n",
        "    right = int(center+step)\n",
        "    if axis == 0:\n",
        "        img = img[:, left:right]\n",
        "    else:\n",
        "        img = img[left:right, :]\n",
        "\n",
        "    return img"
      ],
      "id": "2beb22ea"
    },
    {
      "cell_type": "code",
      "execution_count": 3,
      "metadata": {
        "id": "35cd3d08"
      },
      "outputs": [],
      "source": [
        "class CustomImageDataset(torch.utils.data.Dataset):\n",
        "    def __init__(self,front_image_dir,bev_image_dir,transform=None, target_transform=None):\n",
        "        self.front_image_dir=front_image_dir\n",
        "        self.bev_image_dir=bev_image_dir\n",
        "        self.transform = transform\n",
        "        self.target_transform = target_transform\n",
        "        self.front_images_path=list()\n",
        "        self.bev_images_path=list()\n",
        "        for i in tqdm(os.listdir(self.front_image_dir)):\n",
        "            self.front_images_path.append(os.path.join(self.front_image_dir,i))\n",
        "            self.bev_images_path.append(os.path.join(self.bev_image_dir,i))\n",
        "            \n",
        "    def __len__(self):\n",
        "        return len(self.bev_images_path)\n",
        "\n",
        "    def __getitem__(self, idx):\n",
        "        dim = (512,512)\n",
        "        img = cv2.cvtColor(cv2.imread(self.front_images_path[idx]), cv2.COLOR_BGR2RGB)\n",
        "        #img = cv2.resize(img,dim)\n",
        "        #image = torch.tensor(img)\n",
        "        image = self.transform(img)\n",
        "        bev_image = cv2.cvtColor(cv2.imread(self.bev_images_path[idx]), cv2.COLOR_BGR2RGB)\n",
        "        #bev_image = cv2.resize(bev_image,dim)\n",
        "        #bev_image = torch.tensor(bev_image)\n",
        "        bev_image = self.transform(bev_image)\n",
        "        bev_image = bev_image*255\n",
        "        image = image*255\n",
        "        return image.to(torch.int64), bev_image.to(torch.int64)"
      ],
      "id": "35cd3d08"
    },
    {
      "cell_type": "code",
      "execution_count": 4,
      "metadata": {
        "id": "efa2a8b7"
      },
      "outputs": [],
      "source": [
        "train_transforms = transforms.Compose([\n",
        "  transforms.ToTensor(),\n",
        "  transforms.Resize((512,512)),\n",
        "  #transforms.Normalize((0.485, 0.456, 0.406), (0.229, 0.224, 0.225)),\n",
        "])"
      ],
      "id": "efa2a8b7"
    },
    {
      "cell_type": "code",
      "execution_count": 5,
      "metadata": {
        "id": "EHbeGaHsXZO8",
        "colab": {
          "base_uri": "https://localhost:8080/"
        },
        "outputId": "3cb9b741-f552-40e3-8f9d-99244edafebe"
      },
      "outputs": [
        {
          "output_type": "stream",
          "name": "stdout",
          "text": [
            "Mounted at /content/drive\n"
          ]
        }
      ],
      "source": [
        "from google.colab import drive\n",
        "drive.mount('/content/drive')"
      ],
      "id": "EHbeGaHsXZO8"
    },
    {
      "cell_type": "code",
      "execution_count": 6,
      "metadata": {
        "id": "20ed49a7",
        "colab": {
          "base_uri": "https://localhost:8080/"
        },
        "outputId": "1d440297-b580-412c-a385-212cfbc83ce3"
      },
      "outputs": [
        {
          "output_type": "stream",
          "name": "stderr",
          "text": [
            "100%|██████████| 3172/3172 [00:00<00:00, 188601.57it/s]\n"
          ]
        }
      ],
      "source": [
        "front_image='/content/drive/MyDrive/front'\n",
        "bev_occulsion='/content/drive/MyDrive/bev+occlusion'\n",
        "dataset=CustomImageDataset(front_image,bev_occulsion,transform = train_transforms)"
      ],
      "id": "20ed49a7"
    },
    {
      "cell_type": "code",
      "execution_count": 7,
      "metadata": {
        "id": "c442fb44"
      },
      "outputs": [],
      "source": [
        "train_set , validation_set , test_Set = torch.utils.data.random_split(dataset, [172,1000,2000])"
      ],
      "id": "c442fb44"
    },
    {
      "cell_type": "code",
      "execution_count": 8,
      "metadata": {
        "id": "62e0add9"
      },
      "outputs": [],
      "source": [
        "train_loader = torch.utils.data.DataLoader(\n",
        "    train_set, batch_size = 1, shuffle = True, num_workers = 0)\n",
        "\n",
        "validation_loader = torch.utils.data.DataLoader(\n",
        "    validation_set, batch_size = 1, shuffle = True, num_workers = 0)\n",
        "\n",
        "test_loader=torch.utils.data.DataLoader(\n",
        "    test_Set, batch_size = 1, shuffle = True, num_workers = 0)"
      ],
      "id": "62e0add9"
    },
    {
      "cell_type": "code",
      "execution_count": 9,
      "metadata": {
        "id": "nJyWkfV4YjSo"
      },
      "outputs": [],
      "source": [
        "device = torch.device('cuda' if torch.cuda.is_available() else 'cpu')"
      ],
      "id": "nJyWkfV4YjSo"
    },
    {
      "cell_type": "code",
      "execution_count": 10,
      "metadata": {
        "id": "KuiOLzp3YnHH",
        "colab": {
          "base_uri": "https://localhost:8080/"
        },
        "outputId": "6cc28f8e-2af4-41cd-eb29-0c91f884ab13"
      },
      "outputs": [
        {
          "output_type": "execute_result",
          "data": {
            "text/plain": [
              "device(type='cuda')"
            ]
          },
          "metadata": {},
          "execution_count": 10
        }
      ],
      "source": [
        "device"
      ],
      "id": "KuiOLzp3YnHH"
    },
    {
      "cell_type": "code",
      "execution_count": 11,
      "metadata": {
        "id": "912fdc40",
        "colab": {
          "base_uri": "https://localhost:8080/"
        },
        "outputId": "62800226-79ff-4cc6-c4ee-e7d43cf77b3e"
      },
      "outputs": [
        {
          "output_type": "stream",
          "name": "stdout",
          "text": [
            "torch.Size([1, 3, 512, 512])\n"
          ]
        }
      ],
      "source": [
        "for i,j in train_loader:\n",
        "    print(i.shape)\n",
        "    #print(i[0])\n",
        "    #plt.imshow(i[0].permute(1,2,0))\n",
        "    break"
      ],
      "id": "912fdc40"
    },
    {
      "cell_type": "code",
      "execution_count": 12,
      "metadata": {
        "id": "20e568e9"
      },
      "outputs": [],
      "source": [
        "device = torch.device('cuda' if torch.cuda.is_available else \"cpu\")"
      ],
      "id": "20e568e9"
    },
    {
      "cell_type": "code",
      "execution_count": 13,
      "metadata": {
        "id": "3d8b6f3f"
      },
      "outputs": [],
      "source": [
        "class Camera_parameters():\n",
        "    def __init__(self):\n",
        "        super(Camera_parameters, self).__init__()\n",
        "        \n",
        "    def rotation_from_euler(self,roll=1., pitch=1., yaw=1.):\n",
        "        \"\"\"\n",
        "        Get rotation matrix\n",
        "        Args:\n",
        "            roll, pitch, yaw:       In radians\n",
        "        Returns:\n",
        "            R:          [4, 4]\n",
        "        \"\"\"\n",
        "        si, sj, sk = np.sin(roll), np.sin(pitch), np.sin(yaw)\n",
        "        ci, cj, ck = np.cos(roll), np.cos(pitch), np.cos(yaw)\n",
        "        cc, cs = ci * ck, ci * sk\n",
        "        sc, ss = si * ck, si * sk\n",
        "\n",
        "        R = np.identity(4)\n",
        "        R[0, 0] = cj * ck\n",
        "        R[0, 1] = sj * sc - cs\n",
        "        R[0, 2] = sj * cc + ss\n",
        "        R[1, 0] = cj * sk\n",
        "        R[1, 1] = sj * ss + cc\n",
        "        R[1, 2] = sj * cs - sc\n",
        "        R[2, 0] = -sj\n",
        "        R[2, 1] = cj * si\n",
        "        R[2, 2] = cj * ci\n",
        "        return R\n",
        "\n",
        "    def translation_matrix(self,vector):\n",
        "        \"\"\"\n",
        "        Translation matrix\n",
        "        Args:\n",
        "            vector list[float]:     (x, y, z)\n",
        "        Returns:\n",
        "            T:      [4, 4]\n",
        "        \"\"\"\n",
        "        M = np.identity(4)\n",
        "        M[:3, 3] = vector[:3]\n",
        "        return M\n",
        "\n",
        "    def load_camera_params(self,file):\n",
        "        \"\"\"\n",
        "        Get the intrinsic and extrinsic parameters\n",
        "        Returns:\n",
        "            Camera extrinsic and intrinsic matrices\n",
        "        \"\"\"\n",
        "        with open(file, 'rt') as handle:\n",
        "            p = json.load(handle)\n",
        "\n",
        "        fx, fy = p['fx'], p['fy']\n",
        "        u0, v0 = p['u0'], p['v0']\n",
        "\n",
        "        pitch, roll, yaw = p['pitch'], p['roll'], p['yaw']\n",
        "        x, y, z = p['x'], p['y'], p['z']\n",
        "\n",
        "        # Intrinsic\n",
        "        K = np.array([[fx, 0, u0, 0],\n",
        "                      [0, fy, v0, 0],\n",
        "                      [0, 0, 1, 0],\n",
        "                      [0, 0, 0, 1]])\n",
        "\n",
        "        # Extrinsic\n",
        "        R_veh2cam = np.transpose(self.rotation_from_euler(roll, pitch, yaw))\n",
        "        T_veh2cam = self.translation_matrix((-x, -y, -z))\n",
        "\n",
        "        # Rotate to camera coordinates\n",
        "        R = np.array([[0., -1., 0., 0.],\n",
        "                      [0., 0., -1., 0.],\n",
        "                      [1., 0., 0., 0.],\n",
        "                      [0., 0., 0., 1.]])\n",
        "\n",
        "        RT = R @ R_veh2cam @ T_veh2cam\n",
        "        return RT, K"
      ],
      "id": "3d8b6f3f"
    },
    {
      "cell_type": "code",
      "execution_count": 14,
      "metadata": {
        "id": "e145b07a"
      },
      "outputs": [],
      "source": [
        "\n",
        "class BilinearInterpolation(nn.Module):\n",
        "    def __init__(self):\n",
        "        super(BilinearInterpolation, self).__init__()\n",
        "        self.camera = Camera_parameters()\n",
        "        self.conv1 = nn.Conv2d(in_channels=3, out_channels=16, kernel_size=3, stride=1, padding=1)\n",
        "        \n",
        "    def bilinear_sampler(self,imgs, pix_coords):\n",
        "\n",
        "        batch_Size, img_h, img_w ,img_c= imgs.shape\n",
        "        pix_h, pix_w,pix_c = pix_coords.shape\n",
        "        out_shape = (pix_h, pix_w,img_c)\n",
        "\n",
        "        pix_x, pix_y = np.split(pix_coords, [1], axis=-1)  # [pix_h, pix_w, 1]\n",
        "        pix_x = pix_x.to(torch.float32)\n",
        "        pix_y = pix_y.to(torch.float32)\n",
        "\n",
        "        # Rounding\n",
        "        pix_x0 = torch.floor(pix_x)\n",
        "        pix_x1 = pix_x0 + 1\n",
        "        pix_y0 = torch.floor(pix_y)\n",
        "        pix_y1 = pix_y0 + 1\n",
        "\n",
        "        # Clip within image boundary\n",
        "        y_max =  torch.tensor(img_h - 1).to(device=device)\n",
        "        x_max =  torch.tensor(img_w - 1).to(device=device)\n",
        "        zero = torch.zeros([1]).to(device=device)\n",
        "\n",
        "        pix_x0 = torch.clamp(pix_x0, zero, x_max).to(device=device)\n",
        "        pix_y0 = torch.clamp(pix_y0, zero, y_max).to(device=device)\n",
        "        pix_x1 = torch.clamp(pix_x1, zero, x_max).to(device=device)\n",
        "        pix_y1 = torch.clamp(pix_y1, zero, y_max).to(device=device)\n",
        "\n",
        "        # Weights [pix_h, pix_w, 1]\n",
        "        wt_x0 = (pix_x1 - pix_x).to(device=device)\n",
        "        wt_x1 = (pix_x - pix_x0).to(device=device)\n",
        "        wt_y0 = (pix_y1 - pix_y).to(device=device)\n",
        "        wt_y1 = (pix_y - pix_y0).to(device=device)\n",
        "\n",
        "        # indices in the image to sample from\n",
        "        dim = img_w\n",
        "\n",
        "        # Apply the lower and upper bound pix coord\n",
        "        base_y0 = (pix_y0 * dim).to(device=device)\n",
        "        base_y1 = (pix_y1 * dim).to(device=device)\n",
        "\n",
        "        # 4 corner vertices\n",
        "        idx00 = (pix_x0 + base_y0).flatten().to(torch.int).to(device=device) \n",
        "        idx01 = (pix_x0 + base_y1).to(torch.int).to(device=device) \n",
        "        idx10 = (pix_x1 + base_y0).to(torch.int).to(device=device) \n",
        "        idx11 = (pix_x1 + base_y1).to(torch.int).to(device=device) \n",
        "        # Gather pixels from image using vertices\n",
        "        imgs_flat = imgs.reshape([-1, img_c]).to(torch.float64).to(device=device) \n",
        "        im00 = imgs_flat[idx00.to(torch.long)].reshape(out_shape).to(device=device) \n",
        "        im01 = imgs_flat[idx01.to(torch.long)].reshape(out_shape).to(device=device) \n",
        "        im10 = imgs_flat[idx10.to(torch.long)].reshape(out_shape).to(device=device) \n",
        "        im11 = imgs_flat[idx11.to(torch.long)].reshape(out_shape).to(device=device) \n",
        "\n",
        "        w00 = wt_x0 * wt_y0.to(device=device) \n",
        "        w01 = wt_x0 * wt_y1.to(device=device) \n",
        "        w10 = wt_x1 * wt_y0.to(device=device) \n",
        "        w11 = wt_x1 * wt_y1.to(device=device) \n",
        "        output = w00 * im00 + w01 * im01 + w10 * im10 + w11 * im11\n",
        "        return output.to(device=device) \n",
        "    \n",
        "    \n",
        "    def perspective(self,cam_coords, proj_mat, h, w):\n",
        "        eps = 1e-7\n",
        "        pix_coords = proj_mat @ cam_coords\n",
        "        pix_coords = pix_coords[:2, :] / (pix_coords[2, :] + eps)\n",
        "        pix_coords = np.reshape(pix_coords, (2, h, w))\n",
        "        pix_coords = np.transpose(pix_coords, (1, 2, 0))\n",
        "        pix_coords = torch.from_numpy(pix_coords)\n",
        "        return pix_coords.to(device=device) \n",
        "    \n",
        "    def ipm_from_parameters(self,image, xyz, K, RT, TARGET_H, TARGET_W,interpolation_fn):\n",
        "\n",
        "        xyz[1] = -xyz[1]\n",
        "        P = K @ RT\n",
        "        pixel_coords = self.perspective(xyz, P,TARGET_H, TARGET_W)\n",
        "        image2 = interpolation_fn(image, pixel_coords)\n",
        "        return image2.to(torch.int64).to(device=device)\n",
        "    \n",
        "    def meshgrid(self, xmin, xmax, num_x, ymin, ymax, num_y, is_homogeneous=True):\n",
        "        \"\"\"\n",
        "        Grid is parallel to z-axis\n",
        "        Returns:\n",
        "            array x,y,z,[1] coordinate   [3/4, num_x * num_y]\n",
        "        \"\"\"\n",
        "        x = np.linspace(xmin, xmax, num_x)\n",
        "        y = np.linspace(ymin, ymax, num_y)\n",
        "        x, y = np.meshgrid(x, y)\n",
        "        x = x.flatten()\n",
        "        y = y.flatten()\n",
        "        z = np.zeros_like(x)\n",
        "\n",
        "        if is_homogeneous:\n",
        "            coords = np.stack([x, y, z, np.ones_like(x)], axis=0)\n",
        "        else:\n",
        "            coords = np.stack([x, y, z], axis=0)\n",
        "        return coords#.to(device=device) \n",
        "    \n",
        "\n",
        "\n",
        "    def plane(self, x, y, z, roll, pitch, yaw, col, row, scale):\n",
        "        \"\"\"\n",
        "        Returns:\n",
        "            Grid coordinate: [b, 3/4, row*cols]\n",
        "        \"\"\"\n",
        "        xmin = x\n",
        "        xmax = x + col * scale\n",
        "        ymin = y\n",
        "        ymax = y + row * scale\n",
        "        return self.meshgrid(xmin, xmax, col,\n",
        "                        ymin, ymax, row)\n",
        "\n",
        "\n",
        "    def forward(self,image,file,x,y,scale):\n",
        "        batch_size, TARGET_H,TARGET_W,channels = image.shape\n",
        "        plane = self.plane(x,y, 0, 0, 0, 0, TARGET_H, TARGET_W, scale)\n",
        "        extrinsic, intrinsic = self.camera.load_camera_params(file)\n",
        "        warped1 = self.ipm_from_parameters(image, plane, intrinsic, extrinsic,TARGET_H, TARGET_W, self.bilinear_sampler) \n",
        "        #out = torch.unsqueeze(warped1.to(torch.int64), 0).permute(0,3,1,2)\n",
        "        out = torch.unsqueeze(warped1, 0).to(torch.int64).permute(0,3,1,2)\n",
        "        #out = self.conv1(out)\n",
        "        return out"
      ],
      "id": "e145b07a"
    },
    {
      "cell_type": "code",
      "execution_count": 16,
      "metadata": {
        "colab": {
          "base_uri": "https://localhost:8080/",
          "height": 381
        },
        "id": "9d400dfc",
        "outputId": "1406afab-a099-478b-882e-db97aeb3aea3"
      },
      "outputs": [
        {
          "output_type": "error",
          "ename": "FileNotFoundError",
          "evalue": "ignored",
          "traceback": [
            "\u001b[0;31m---------------------------------------------------------------------------\u001b[0m",
            "\u001b[0;31mFileNotFoundError\u001b[0m                         Traceback (most recent call last)",
            "\u001b[0;32m<ipython-input-16-3fa0a8d5dc9c>\u001b[0m in \u001b[0;36m<cell line: 2>\u001b[0;34m()\u001b[0m\n\u001b[1;32m      2\u001b[0m \u001b[0;32mfor\u001b[0m \u001b[0mbatch_idx\u001b[0m\u001b[0;34m,\u001b[0m \u001b[0;34m(\u001b[0m\u001b[0mdata\u001b[0m\u001b[0;34m,\u001b[0m \u001b[0mtarget\u001b[0m\u001b[0;34m)\u001b[0m \u001b[0;32min\u001b[0m \u001b[0menumerate\u001b[0m\u001b[0;34m(\u001b[0m\u001b[0mtrain_loader\u001b[0m\u001b[0;34m)\u001b[0m\u001b[0;34m:\u001b[0m\u001b[0;34m\u001b[0m\u001b[0;34m\u001b[0m\u001b[0m\n\u001b[1;32m      3\u001b[0m     \u001b[0mdata\u001b[0m \u001b[0;34m=\u001b[0m \u001b[0mdata\u001b[0m\u001b[0;34m.\u001b[0m\u001b[0mpermute\u001b[0m\u001b[0;34m(\u001b[0m\u001b[0;36m0\u001b[0m\u001b[0;34m,\u001b[0m\u001b[0;36m2\u001b[0m\u001b[0;34m,\u001b[0m\u001b[0;36m3\u001b[0m\u001b[0;34m,\u001b[0m\u001b[0;36m1\u001b[0m\u001b[0;34m)\u001b[0m\u001b[0;34m\u001b[0m\u001b[0;34m\u001b[0m\u001b[0m\n\u001b[0;32m----> 4\u001b[0;31m     \u001b[0mout\u001b[0m \u001b[0;34m=\u001b[0m \u001b[0mmodel\u001b[0m\u001b[0;34m(\u001b[0m\u001b[0mdata\u001b[0m\u001b[0;34m,\u001b[0m\u001b[0;34m'/content/sample_data/untitled512.json'\u001b[0m\u001b[0;34m,\u001b[0m\u001b[0;36m10\u001b[0m\u001b[0;34m,\u001b[0m\u001b[0;34m-\u001b[0m\u001b[0;36m26\u001b[0m\u001b[0;34m,\u001b[0m\u001b[0;36m0.1\u001b[0m\u001b[0;34m)\u001b[0m \u001b[0;31m# convert to torch.float32\u001b[0m\u001b[0;34m\u001b[0m\u001b[0;34m\u001b[0m\u001b[0m\n\u001b[0m\u001b[1;32m      5\u001b[0m     \u001b[0;31m#np.clip((outputs[0]  .squeeze(0).permute(1, 2, 0).detach().cpu().numpy() * 255),0, 255).astype(np.uint8).copy(order='C')\u001b[0m\u001b[0;34m\u001b[0m\u001b[0;34m\u001b[0m\u001b[0m\n\u001b[1;32m      6\u001b[0m \u001b[0;34m\u001b[0m\u001b[0m\n",
            "\u001b[0;32m/usr/local/lib/python3.9/dist-packages/torch/nn/modules/module.py\u001b[0m in \u001b[0;36m_call_impl\u001b[0;34m(self, *input, **kwargs)\u001b[0m\n\u001b[1;32m   1192\u001b[0m         if not (self._backward_hooks or self._forward_hooks or self._forward_pre_hooks or _global_backward_hooks\n\u001b[1;32m   1193\u001b[0m                 or _global_forward_hooks or _global_forward_pre_hooks):\n\u001b[0;32m-> 1194\u001b[0;31m             \u001b[0;32mreturn\u001b[0m \u001b[0mforward_call\u001b[0m\u001b[0;34m(\u001b[0m\u001b[0;34m*\u001b[0m\u001b[0minput\u001b[0m\u001b[0;34m,\u001b[0m \u001b[0;34m**\u001b[0m\u001b[0mkwargs\u001b[0m\u001b[0;34m)\u001b[0m\u001b[0;34m\u001b[0m\u001b[0;34m\u001b[0m\u001b[0m\n\u001b[0m\u001b[1;32m   1195\u001b[0m         \u001b[0;31m# Do not call functions when jit is used\u001b[0m\u001b[0;34m\u001b[0m\u001b[0;34m\u001b[0m\u001b[0m\n\u001b[1;32m   1196\u001b[0m         \u001b[0mfull_backward_hooks\u001b[0m\u001b[0;34m,\u001b[0m \u001b[0mnon_full_backward_hooks\u001b[0m \u001b[0;34m=\u001b[0m \u001b[0;34m[\u001b[0m\u001b[0;34m]\u001b[0m\u001b[0;34m,\u001b[0m \u001b[0;34m[\u001b[0m\u001b[0;34m]\u001b[0m\u001b[0;34m\u001b[0m\u001b[0;34m\u001b[0m\u001b[0m\n",
            "\u001b[0;32m<ipython-input-14-e9fad60821d9>\u001b[0m in \u001b[0;36mforward\u001b[0;34m(self, image, file, x, y, scale)\u001b[0m\n\u001b[1;32m    118\u001b[0m         \u001b[0mbatch_size\u001b[0m\u001b[0;34m,\u001b[0m \u001b[0mTARGET_H\u001b[0m\u001b[0;34m,\u001b[0m\u001b[0mTARGET_W\u001b[0m\u001b[0;34m,\u001b[0m\u001b[0mchannels\u001b[0m \u001b[0;34m=\u001b[0m \u001b[0mimage\u001b[0m\u001b[0;34m.\u001b[0m\u001b[0mshape\u001b[0m\u001b[0;34m\u001b[0m\u001b[0;34m\u001b[0m\u001b[0m\n\u001b[1;32m    119\u001b[0m         \u001b[0mplane\u001b[0m \u001b[0;34m=\u001b[0m \u001b[0mself\u001b[0m\u001b[0;34m.\u001b[0m\u001b[0mplane\u001b[0m\u001b[0;34m(\u001b[0m\u001b[0mx\u001b[0m\u001b[0;34m,\u001b[0m\u001b[0my\u001b[0m\u001b[0;34m,\u001b[0m \u001b[0;36m0\u001b[0m\u001b[0;34m,\u001b[0m \u001b[0;36m0\u001b[0m\u001b[0;34m,\u001b[0m \u001b[0;36m0\u001b[0m\u001b[0;34m,\u001b[0m \u001b[0;36m0\u001b[0m\u001b[0;34m,\u001b[0m \u001b[0mTARGET_H\u001b[0m\u001b[0;34m,\u001b[0m \u001b[0mTARGET_W\u001b[0m\u001b[0;34m,\u001b[0m \u001b[0mscale\u001b[0m\u001b[0;34m)\u001b[0m\u001b[0;34m\u001b[0m\u001b[0;34m\u001b[0m\u001b[0m\n\u001b[0;32m--> 120\u001b[0;31m         \u001b[0mextrinsic\u001b[0m\u001b[0;34m,\u001b[0m \u001b[0mintrinsic\u001b[0m \u001b[0;34m=\u001b[0m \u001b[0mself\u001b[0m\u001b[0;34m.\u001b[0m\u001b[0mcamera\u001b[0m\u001b[0;34m.\u001b[0m\u001b[0mload_camera_params\u001b[0m\u001b[0;34m(\u001b[0m\u001b[0mfile\u001b[0m\u001b[0;34m)\u001b[0m\u001b[0;34m\u001b[0m\u001b[0;34m\u001b[0m\u001b[0m\n\u001b[0m\u001b[1;32m    121\u001b[0m         \u001b[0mwarped1\u001b[0m \u001b[0;34m=\u001b[0m \u001b[0mself\u001b[0m\u001b[0;34m.\u001b[0m\u001b[0mipm_from_parameters\u001b[0m\u001b[0;34m(\u001b[0m\u001b[0mimage\u001b[0m\u001b[0;34m,\u001b[0m \u001b[0mplane\u001b[0m\u001b[0;34m,\u001b[0m \u001b[0mintrinsic\u001b[0m\u001b[0;34m,\u001b[0m \u001b[0mextrinsic\u001b[0m\u001b[0;34m,\u001b[0m\u001b[0mTARGET_H\u001b[0m\u001b[0;34m,\u001b[0m \u001b[0mTARGET_W\u001b[0m\u001b[0;34m,\u001b[0m \u001b[0mself\u001b[0m\u001b[0;34m.\u001b[0m\u001b[0mbilinear_sampler\u001b[0m\u001b[0;34m)\u001b[0m\u001b[0;34m\u001b[0m\u001b[0;34m\u001b[0m\u001b[0m\n\u001b[1;32m    122\u001b[0m         \u001b[0;31m#out = torch.unsqueeze(warped1.to(torch.int64), 0).permute(0,3,1,2)\u001b[0m\u001b[0;34m\u001b[0m\u001b[0;34m\u001b[0m\u001b[0m\n",
            "\u001b[0;32m<ipython-input-13-a395c92290a2>\u001b[0m in \u001b[0;36mload_camera_params\u001b[0;34m(self, file)\u001b[0m\n\u001b[1;32m     46\u001b[0m             \u001b[0mCamera\u001b[0m \u001b[0mextrinsic\u001b[0m \u001b[0;32mand\u001b[0m \u001b[0mintrinsic\u001b[0m \u001b[0mmatrices\u001b[0m\u001b[0;34m\u001b[0m\u001b[0;34m\u001b[0m\u001b[0m\n\u001b[1;32m     47\u001b[0m         \"\"\"\n\u001b[0;32m---> 48\u001b[0;31m         \u001b[0;32mwith\u001b[0m \u001b[0mopen\u001b[0m\u001b[0;34m(\u001b[0m\u001b[0mfile\u001b[0m\u001b[0;34m,\u001b[0m \u001b[0;34m'rt'\u001b[0m\u001b[0;34m)\u001b[0m \u001b[0;32mas\u001b[0m \u001b[0mhandle\u001b[0m\u001b[0;34m:\u001b[0m\u001b[0;34m\u001b[0m\u001b[0;34m\u001b[0m\u001b[0m\n\u001b[0m\u001b[1;32m     49\u001b[0m             \u001b[0mp\u001b[0m \u001b[0;34m=\u001b[0m \u001b[0mjson\u001b[0m\u001b[0;34m.\u001b[0m\u001b[0mload\u001b[0m\u001b[0;34m(\u001b[0m\u001b[0mhandle\u001b[0m\u001b[0;34m)\u001b[0m\u001b[0;34m\u001b[0m\u001b[0;34m\u001b[0m\u001b[0m\n\u001b[1;32m     50\u001b[0m \u001b[0;34m\u001b[0m\u001b[0m\n",
            "\u001b[0;31mFileNotFoundError\u001b[0m: [Errno 2] No such file or directory: '/content/sample_data/untitled512.json'"
          ]
        }
      ],
      "source": [
        "\n",
        "model = BilinearInterpolation()\n",
        "for batch_idx, (data, target) in enumerate(train_loader):\n",
        "    data = data.permute(0,2,3,1)\n",
        "    out = model(data,'/content/sample_data/untitled512.json',10,-26,0.1) # convert to torch.float32\n",
        "    #np.clip((outputs[0]  .squeeze(0).permute(1, 2, 0).detach().cpu().numpy() * 255),0, 255).astype(np.uint8).copy(order='C')\n",
        "\n",
        "    plt.imshow((out[0].permute(1,2,0).detach().cpu().numpy()),0, 255).copy(order='C')\n",
        "    break"
      ],
      "id": "9d400dfc"
    },
    {
      "cell_type": "markdown",
      "metadata": {
        "id": "RT7uwJGFD1aF"
      },
      "source": [
        "# New Section"
      ],
      "id": "RT7uwJGFD1aF"
    },
    {
      "cell_type": "code",
      "execution_count": 17,
      "metadata": {
        "id": "fcecbb56"
      },
      "outputs": [],
      "source": [
        "from collections import OrderedDict\n",
        "\n",
        "class UNet(nn.Module):\n",
        "\n",
        "    def __init__(self, in_channels=3, out_channels=3, init_features=16):\n",
        "        super(UNet, self).__init__()\n",
        "        features = init_features\n",
        "        self.STN = BilinearInterpolation()\n",
        "        self.dropout = nn.Dropout(p=0.1)\n",
        "        self.encoder1 = UNet._block(in_channels, features, name=\"enc1\")\n",
        "        self.pool1 = nn.MaxPool2d(kernel_size=2, stride=2)\n",
        "        \n",
        "        self.encoder2 = UNet._block(features, features * 2, name=\"enc2\")\n",
        "        self.pool2 = nn.MaxPool2d(kernel_size=2, stride=2)\n",
        "\n",
        "        self.encoder3 = UNet._block(features * 2, features * 4, name=\"enc3\")\n",
        "        self.pool3 = nn.MaxPool2d(kernel_size=2, stride=2)\n",
        "\n",
        "        self.encoder4 = UNet._block(features * 4, features * 8, name=\"enc4\")\n",
        "        self.pool4 = nn.MaxPool2d(kernel_size=2, stride=2)\n",
        "\n",
        "        self.encoder5 = UNet._block(features * 8, features * 16, name=\"enc5\")\n",
        "        self.pool5 = nn.MaxPool2d(kernel_size=2, stride=2)\n",
        "        \n",
        "        \n",
        "        self.joiner1 = UNet._block(features*1,features*1,name = 'joiner1')\n",
        "        self.joiner2 = UNet._block(features*2,features*2,name = 'joiner2')\n",
        "        self.joiner3 = UNet._block(features*4,features*4,name = 'joiner3')\n",
        "        self.joiner4 = UNet._block(features*8,features*8,name = 'joiner4')\n",
        "\n",
        "        #self.bottleneck = UNet._block(features * 8, features * 16, name=\"bottleneck\")\n",
        "\n",
        "        self.upconv4 = nn.ConvTranspose2d(\n",
        "            features * 16, features * 8, kernel_size=2, stride=2\n",
        "        )\n",
        "        self.decoder4 = UNet._block((features * 8) * 2, features * 8, name=\"dec4\")\n",
        "        \n",
        "        self.upconv3 = nn.ConvTranspose2d(\n",
        "            features * 8, features * 4, kernel_size=2, stride=2\n",
        "        )\n",
        "        \n",
        "        self.decoder3 = UNet._block((features * 4) * 2, features * 4, name=\"dec3\")\n",
        "    \n",
        "        self.upconv2 = nn.ConvTranspose2d(\n",
        "            features * 4, features * 2, kernel_size=2, stride=2\n",
        "        )\n",
        "        \n",
        "        self.decoder2 = UNet._block((features * 2) * 2, features * 2, name=\"dec2\")\n",
        "        self.upconv1 = nn.ConvTranspose2d(\n",
        "            features * 2, features, kernel_size=2, stride=2\n",
        "        )\n",
        "        \n",
        "        self.decoder1 = UNet._block(features * 2, features, name=\"dec1\")\n",
        "\n",
        "        self.conv = nn.Conv2d(\n",
        "            in_channels=features, out_channels=out_channels, kernel_size=1\n",
        "        )\n",
        "        \n",
        "        \n",
        "\n",
        "\n",
        "    def forward(self, x):\n",
        "        enc1 = self.encoder1(x)\n",
        "        drp1 = self.dropout(self.pool1(enc1))\n",
        "        enc2 = self.encoder2(drp1)\n",
        "        drp2 = self.dropout(self.pool2(enc2))\n",
        "        enc3 = self.encoder3(drp2)\n",
        "        drp3 = self.dropout(self.pool3(enc3))\n",
        "        enc4 = self.encoder4(drp3)\n",
        "        drp4 = self.dropout(self.pool4(enc4))\n",
        "        enc5 = self.encoder5(drp4)\n",
        "        \n",
        "    \n",
        "        \n",
        "        spt1 = self.STN(enc1.permute(0,2,3,1),'/content/sample_data/untitled512.json',10,-26,0.1)\n",
        "        #jon1 = self.joiner1(spt1)\n",
        "\n",
        "        spt2 = self.STN(enc2.permute(0,2,3,1),'/content/sample_data/untitled256.json',10,-25,0.2)\n",
        "        #jon2 = self.joiner2(spt2)\n",
        "\n",
        "        spt3 = self.STN(enc3.permute(0,2,3,1),'/content/sample_data/untitled128.json',10,-26,0.4)\n",
        "        #jon3 = self.joiner3(spt3)\n",
        "        \n",
        "        spt4 = self.STN(enc4.permute(0,2,3,1),'/content/sample_data/untitled64.json',10,-26,0.8)\n",
        "        #jon4 = self.joiner4(spt4)\n",
        "        \n",
        "\n",
        "        #bottleneck = self.bottleneck(self.pool4(enc4))\n",
        "\n",
        "        dec4 = self.upconv4(enc5)\n",
        "        dec4 = torch.cat((dec4, spt4), dim=1)\n",
        "        drp4 = self.dropout(dec4)\n",
        "        \n",
        "        dec4 = self.decoder4(drp4)\n",
        "        dec3 = self.upconv3(dec4)\n",
        "        dec3 = torch.cat((dec3, spt3), dim=1)\n",
        "        drp3 = self.dropout(dec3)\n",
        "        \n",
        "        dec3 = self.decoder3(dec3)\n",
        "        dec2 = self.upconv2(dec3)\n",
        "        dec2 = torch.cat((dec2, spt2), dim=1)\n",
        "        drp2 = self.dropout(dec2)\n",
        "        \n",
        "        dec2 = self.decoder2(dec2)\n",
        "        dec1 = self.upconv1(dec2)\n",
        "        dec1 = torch.cat((dec1, spt1), dim=1)\n",
        "        drp1 = self.dropout(dec1)\n",
        "        \n",
        "        dec1 = self.decoder1(drp1)\n",
        "        \n",
        "        return torch.softmax(self.conv(dec1), dim =1)\n",
        "    \n",
        "\n",
        "    @staticmethod\n",
        "    def _block(in_channels, features, name):\n",
        "        return nn.Sequential(\n",
        "            OrderedDict(\n",
        "                [\n",
        "                    (\n",
        "                        name + \"conv1\",\n",
        "                        nn.Conv2d(\n",
        "                            in_channels=in_channels,\n",
        "                            out_channels=features,\n",
        "                            kernel_size=3,\n",
        "                            padding=1,\n",
        "                            bias=False,\n",
        "                        ),\n",
        "                    ),\n",
        "                    (name + \"norm1\", nn.BatchNorm2d(num_features=features)),\n",
        "                    (name + \"relu1\", nn.ReLU(inplace=True)),\n",
        "                    (\n",
        "                        name + \"conv2\",\n",
        "                        nn.Conv2d(\n",
        "                            in_channels=features,\n",
        "                            out_channels=features,\n",
        "                            kernel_size=3,\n",
        "                            padding=1,\n",
        "                            bias=False,\n",
        "                        ),\n",
        "                    ),\n",
        "                    (name + \"norm2\", nn.BatchNorm2d(num_features=features)),\n",
        "                    (name + \"relu2\", nn.ReLU(inplace=True)),\n",
        "                ]\n",
        "            )\n",
        "        )"
      ],
      "id": "fcecbb56"
    },
    {
      "cell_type": "code",
      "execution_count": 18,
      "metadata": {
        "id": "4b7f1911"
      },
      "outputs": [],
      "source": [
        "model=UNet()"
      ],
      "id": "4b7f1911"
    },
    {
      "cell_type": "code",
      "execution_count": null,
      "metadata": {
        "id": "TCIRHdGI-PbV"
      },
      "outputs": [],
      "source": [
        "model = UNet()\n",
        "#checkpoint = torch.load('/content/drive/MyDrive/model/my_model_epoch39.pth')\n",
        "checkpoint = torch.load('/content/drive/MyDrive/new_weights/updated_model_epoch98.pth')\n",
        "\n",
        "model_state_dict = checkpoint['model_state_dict']\n",
        "optimizer_state_dict = checkpoint['optimizer_state_dict']\n",
        "epoch = checkpoint['epoch']\n",
        "train_loss = checkpoint['train_loss']"
      ],
      "id": "TCIRHdGI-PbV"
    },
    {
      "cell_type": "code",
      "execution_count": null,
      "metadata": {
        "id": "_-2Lur44FCnB"
      },
      "outputs": [],
      "source": [],
      "id": "_-2Lur44FCnB"
    },
    {
      "cell_type": "markdown",
      "metadata": {
        "id": "5wYU0aR4jGUp"
      },
      "source": [],
      "id": "5wYU0aR4jGUp"
    },
    {
      "cell_type": "code",
      "execution_count": null,
      "metadata": {
        "id": "01767fdf"
      },
      "outputs": [],
      "source": [
        "model = model.to(device=device) \n",
        "criterion = nn.CrossEntropyLoss()\n",
        "optimizer = torch.optim.Adam(model.parameters(), lr= 0.0001) "
      ],
      "id": "01767fdf"
    },
    {
      "cell_type": "code",
      "execution_count": null,
      "metadata": {
        "id": "Ipat-gs6FsvZ"
      },
      "outputs": [],
      "source": [
        "model.load_state_dict(model_state_dict)\n",
        "optimizer.load_state_dict(optimizer_state_dict)"
      ],
      "id": "Ipat-gs6FsvZ"
    },
    {
      "cell_type": "code",
      "execution_count": null,
      "metadata": {
        "colab": {
          "base_uri": "https://localhost:8080/"
        },
        "id": "58042aeb",
        "outputId": "cb74267a-a393-483b-85ec-4638bd69d14c"
      },
      "outputs": [
        {
          "name": "stderr",
          "output_type": "stream",
          "text": [
            "100%|██████████| 172/172 [00:40<00:00,  4.28it/s]\n"
          ]
        },
        {
          "name": "stdout",
          "output_type": "stream",
          "text": [
            "epoch 0 loss 437.834781380587\n"
          ]
        },
        {
          "name": "stderr",
          "output_type": "stream",
          "text": [
            "100%|██████████| 172/172 [00:40<00:00,  4.21it/s]\n"
          ]
        },
        {
          "name": "stdout",
          "output_type": "stream",
          "text": [
            "epoch 1 loss 437.8608277786609\n"
          ]
        },
        {
          "name": "stderr",
          "output_type": "stream",
          "text": [
            "100%|██████████| 172/172 [00:39<00:00,  4.37it/s]\n"
          ]
        },
        {
          "name": "stdout",
          "output_type": "stream",
          "text": [
            "epoch 2 loss 437.8687456707623\n"
          ]
        },
        {
          "name": "stderr",
          "output_type": "stream",
          "text": [
            "100%|██████████| 172/172 [00:38<00:00,  4.45it/s]\n"
          ]
        },
        {
          "name": "stdout",
          "output_type": "stream",
          "text": [
            "epoch 3 loss 437.886590469715\n"
          ]
        },
        {
          "name": "stderr",
          "output_type": "stream",
          "text": [
            "100%|██████████| 172/172 [00:38<00:00,  4.44it/s]\n"
          ]
        },
        {
          "name": "stdout",
          "output_type": "stream",
          "text": [
            "epoch 4 loss 437.91771644769693\n"
          ]
        },
        {
          "name": "stderr",
          "output_type": "stream",
          "text": [
            "100%|██████████| 172/172 [00:39<00:00,  4.37it/s]\n"
          ]
        },
        {
          "name": "stdout",
          "output_type": "stream",
          "text": [
            "epoch 5 loss 437.9192987486372\n"
          ]
        },
        {
          "name": "stderr",
          "output_type": "stream",
          "text": [
            "100%|██████████| 172/172 [00:39<00:00,  4.40it/s]\n"
          ]
        },
        {
          "name": "stdout",
          "output_type": "stream",
          "text": [
            "epoch 6 loss 437.8684247039084\n"
          ]
        },
        {
          "name": "stderr",
          "output_type": "stream",
          "text": [
            "100%|██████████| 172/172 [00:39<00:00,  4.37it/s]\n"
          ]
        },
        {
          "name": "stdout",
          "output_type": "stream",
          "text": [
            "epoch 7 loss 437.81035454328673\n"
          ]
        },
        {
          "name": "stderr",
          "output_type": "stream",
          "text": [
            "100%|██████████| 172/172 [00:39<00:00,  4.41it/s]\n"
          ]
        },
        {
          "name": "stdout",
          "output_type": "stream",
          "text": [
            "epoch 8 loss 437.8551284435183\n"
          ]
        },
        {
          "name": "stderr",
          "output_type": "stream",
          "text": [
            "100%|██████████| 172/172 [00:38<00:00,  4.41it/s]\n"
          ]
        },
        {
          "name": "stdout",
          "output_type": "stream",
          "text": [
            "epoch 9 loss 437.8305302109831\n"
          ]
        },
        {
          "name": "stderr",
          "output_type": "stream",
          "text": [
            "100%|██████████| 172/172 [00:38<00:00,  4.41it/s]\n"
          ]
        },
        {
          "name": "stdout",
          "output_type": "stream",
          "text": [
            "epoch 10 loss 437.83300142509995\n"
          ]
        },
        {
          "name": "stderr",
          "output_type": "stream",
          "text": [
            "100%|██████████| 172/172 [00:39<00:00,  4.34it/s]\n"
          ]
        },
        {
          "name": "stdout",
          "output_type": "stream",
          "text": [
            "epoch 11 loss 437.86426118362766\n"
          ]
        },
        {
          "name": "stderr",
          "output_type": "stream",
          "text": [
            "100%|██████████| 172/172 [00:39<00:00,  4.39it/s]\n"
          ]
        },
        {
          "name": "stdout",
          "output_type": "stream",
          "text": [
            "epoch 12 loss 437.85131800451944\n"
          ]
        },
        {
          "name": "stderr",
          "output_type": "stream",
          "text": [
            "100%|██████████| 172/172 [00:39<00:00,  4.38it/s]\n"
          ]
        },
        {
          "name": "stdout",
          "output_type": "stream",
          "text": [
            "epoch 13 loss 437.8392447538156\n"
          ]
        },
        {
          "name": "stderr",
          "output_type": "stream",
          "text": [
            "100%|██████████| 172/172 [00:38<00:00,  4.45it/s]\n"
          ]
        },
        {
          "name": "stdout",
          "output_type": "stream",
          "text": [
            "epoch 14 loss 437.8036713711052\n"
          ]
        },
        {
          "name": "stderr",
          "output_type": "stream",
          "text": [
            "100%|██████████| 172/172 [00:39<00:00,  4.40it/s]\n"
          ]
        },
        {
          "name": "stdout",
          "output_type": "stream",
          "text": [
            "epoch 15 loss 437.80406668019833\n"
          ]
        },
        {
          "name": "stderr",
          "output_type": "stream",
          "text": [
            "100%|██████████| 172/172 [00:39<00:00,  4.41it/s]\n"
          ]
        },
        {
          "name": "stdout",
          "output_type": "stream",
          "text": [
            "epoch 16 loss 437.86504452727564\n"
          ]
        },
        {
          "name": "stderr",
          "output_type": "stream",
          "text": [
            "100%|██████████| 172/172 [00:39<00:00,  4.41it/s]\n"
          ]
        },
        {
          "name": "stdout",
          "output_type": "stream",
          "text": [
            "epoch 17 loss 437.83265544092933\n"
          ]
        },
        {
          "name": "stderr",
          "output_type": "stream",
          "text": [
            "100%|██████████| 172/172 [00:39<00:00,  4.40it/s]\n"
          ]
        },
        {
          "name": "stdout",
          "output_type": "stream",
          "text": [
            "epoch 18 loss 437.83338537881565\n"
          ]
        },
        {
          "name": "stderr",
          "output_type": "stream",
          "text": [
            "100%|██████████| 172/172 [00:39<00:00,  4.39it/s]\n"
          ]
        },
        {
          "name": "stdout",
          "output_type": "stream",
          "text": [
            "epoch 19 loss 437.7928415342817\n"
          ]
        },
        {
          "name": "stderr",
          "output_type": "stream",
          "text": [
            "100%|██████████| 172/172 [00:39<00:00,  4.32it/s]\n"
          ]
        },
        {
          "name": "stdout",
          "output_type": "stream",
          "text": [
            "epoch 20 loss 437.76489151355827\n"
          ]
        },
        {
          "name": "stderr",
          "output_type": "stream",
          "text": [
            "100%|██████████| 172/172 [00:39<00:00,  4.39it/s]\n"
          ]
        },
        {
          "name": "stdout",
          "output_type": "stream",
          "text": [
            "epoch 21 loss 437.7923252194428\n"
          ]
        },
        {
          "name": "stderr",
          "output_type": "stream",
          "text": [
            "100%|██████████| 172/172 [00:38<00:00,  4.44it/s]\n"
          ]
        },
        {
          "name": "stdout",
          "output_type": "stream",
          "text": [
            "epoch 22 loss 437.79068880302964\n"
          ]
        },
        {
          "name": "stderr",
          "output_type": "stream",
          "text": [
            "100%|██████████| 172/172 [00:38<00:00,  4.45it/s]\n"
          ]
        },
        {
          "name": "stdout",
          "output_type": "stream",
          "text": [
            "epoch 23 loss 437.77129505955884\n"
          ]
        },
        {
          "name": "stderr",
          "output_type": "stream",
          "text": [
            "100%|██████████| 172/172 [00:40<00:00,  4.28it/s]\n"
          ]
        },
        {
          "name": "stdout",
          "output_type": "stream",
          "text": [
            "epoch 24 loss 437.8596299637194\n"
          ]
        },
        {
          "name": "stderr",
          "output_type": "stream",
          "text": [
            "100%|██████████| 172/172 [00:39<00:00,  4.36it/s]\n"
          ]
        },
        {
          "name": "stdout",
          "output_type": "stream",
          "text": [
            "epoch 25 loss 437.74660367743905\n"
          ]
        },
        {
          "name": "stderr",
          "output_type": "stream",
          "text": [
            "100%|██████████| 172/172 [00:39<00:00,  4.39it/s]\n"
          ]
        },
        {
          "name": "stdout",
          "output_type": "stream",
          "text": [
            "epoch 26 loss 437.7247449298237\n"
          ]
        },
        {
          "name": "stderr",
          "output_type": "stream",
          "text": [
            "100%|██████████| 172/172 [00:39<00:00,  4.41it/s]\n"
          ]
        },
        {
          "name": "stdout",
          "output_type": "stream",
          "text": [
            "epoch 27 loss 437.74736626203685\n"
          ]
        },
        {
          "name": "stderr",
          "output_type": "stream",
          "text": [
            "100%|██████████| 172/172 [00:39<00:00,  4.34it/s]\n"
          ]
        },
        {
          "name": "stdout",
          "output_type": "stream",
          "text": [
            "epoch 28 loss 437.7416319736212\n"
          ]
        },
        {
          "name": "stderr",
          "output_type": "stream",
          "text": [
            "100%|██████████| 172/172 [00:39<00:00,  4.39it/s]\n"
          ]
        },
        {
          "name": "stdout",
          "output_type": "stream",
          "text": [
            "epoch 29 loss 437.7441915467726\n"
          ]
        },
        {
          "name": "stderr",
          "output_type": "stream",
          "text": [
            "100%|██████████| 172/172 [00:38<00:00,  4.42it/s]\n"
          ]
        },
        {
          "name": "stdout",
          "output_type": "stream",
          "text": [
            "epoch 30 loss 437.7202746369117\n"
          ]
        },
        {
          "name": "stderr",
          "output_type": "stream",
          "text": [
            "100%|██████████| 172/172 [00:38<00:00,  4.43it/s]\n"
          ]
        },
        {
          "name": "stdout",
          "output_type": "stream",
          "text": [
            "epoch 31 loss 437.7245981970501\n"
          ]
        },
        {
          "name": "stderr",
          "output_type": "stream",
          "text": [
            "100%|██████████| 172/172 [00:39<00:00,  4.32it/s]\n"
          ]
        },
        {
          "name": "stdout",
          "output_type": "stream",
          "text": [
            "epoch 32 loss 437.7562742011492\n"
          ]
        },
        {
          "name": "stderr",
          "output_type": "stream",
          "text": [
            "100%|██████████| 172/172 [00:38<00:00,  4.42it/s]\n"
          ]
        },
        {
          "name": "stdout",
          "output_type": "stream",
          "text": [
            "epoch 33 loss 437.77157752458425\n"
          ]
        },
        {
          "name": "stderr",
          "output_type": "stream",
          "text": [
            "100%|██████████| 172/172 [00:38<00:00,  4.44it/s]\n"
          ]
        },
        {
          "name": "stdout",
          "output_type": "stream",
          "text": [
            "epoch 34 loss 437.7438058187796\n"
          ]
        },
        {
          "name": "stderr",
          "output_type": "stream",
          "text": [
            "100%|██████████| 172/172 [00:39<00:00,  4.40it/s]\n"
          ]
        },
        {
          "name": "stdout",
          "output_type": "stream",
          "text": [
            "epoch 35 loss 437.7067997067472\n"
          ]
        },
        {
          "name": "stderr",
          "output_type": "stream",
          "text": [
            "100%|██████████| 172/172 [00:38<00:00,  4.43it/s]\n"
          ]
        },
        {
          "name": "stdout",
          "output_type": "stream",
          "text": [
            "epoch 36 loss 437.67316685166486\n"
          ]
        },
        {
          "name": "stderr",
          "output_type": "stream",
          "text": [
            "100%|██████████| 172/172 [00:40<00:00,  4.29it/s]\n"
          ]
        },
        {
          "name": "stdout",
          "output_type": "stream",
          "text": [
            "epoch 37 loss 437.65624006404437\n"
          ]
        },
        {
          "name": "stderr",
          "output_type": "stream",
          "text": [
            "100%|██████████| 172/172 [00:39<00:00,  4.38it/s]\n"
          ]
        },
        {
          "name": "stdout",
          "output_type": "stream",
          "text": [
            "epoch 38 loss 437.66643559655466\n"
          ]
        },
        {
          "name": "stderr",
          "output_type": "stream",
          "text": [
            "100%|██████████| 172/172 [00:38<00:00,  4.42it/s]\n"
          ]
        },
        {
          "name": "stdout",
          "output_type": "stream",
          "text": [
            "epoch 39 loss 437.65281144962756\n"
          ]
        },
        {
          "name": "stderr",
          "output_type": "stream",
          "text": [
            "100%|██████████| 172/172 [00:38<00:00,  4.47it/s]\n"
          ]
        },
        {
          "name": "stdout",
          "output_type": "stream",
          "text": [
            "epoch 40 loss 437.68142575995853\n"
          ]
        },
        {
          "name": "stderr",
          "output_type": "stream",
          "text": [
            "100%|██████████| 172/172 [00:39<00:00,  4.31it/s]\n"
          ]
        },
        {
          "name": "stdout",
          "output_type": "stream",
          "text": [
            "epoch 41 loss 437.7054798214937\n"
          ]
        },
        {
          "name": "stderr",
          "output_type": "stream",
          "text": [
            "100%|██████████| 172/172 [00:38<00:00,  4.42it/s]\n"
          ]
        },
        {
          "name": "stdout",
          "output_type": "stream",
          "text": [
            "epoch 42 loss 437.69485917202246\n"
          ]
        },
        {
          "name": "stderr",
          "output_type": "stream",
          "text": [
            "100%|██████████| 172/172 [00:39<00:00,  4.37it/s]\n"
          ]
        },
        {
          "name": "stdout",
          "output_type": "stream",
          "text": [
            "epoch 43 loss 437.6771595089932\n"
          ]
        },
        {
          "name": "stderr",
          "output_type": "stream",
          "text": [
            "100%|██████████| 172/172 [00:39<00:00,  4.38it/s]\n"
          ]
        },
        {
          "name": "stdout",
          "output_type": "stream",
          "text": [
            "epoch 44 loss 437.64887627889937\n"
          ]
        },
        {
          "name": "stderr",
          "output_type": "stream",
          "text": [
            "100%|██████████| 172/172 [00:39<00:00,  4.40it/s]\n"
          ]
        },
        {
          "name": "stdout",
          "output_type": "stream",
          "text": [
            "epoch 45 loss 437.7207469496617\n"
          ]
        },
        {
          "name": "stderr",
          "output_type": "stream",
          "text": [
            "100%|██████████| 172/172 [00:39<00:00,  4.32it/s]\n"
          ]
        },
        {
          "name": "stdout",
          "output_type": "stream",
          "text": [
            "epoch 46 loss 437.7851466689\n"
          ]
        },
        {
          "name": "stderr",
          "output_type": "stream",
          "text": [
            "100%|██████████| 172/172 [00:39<00:00,  4.35it/s]\n"
          ]
        },
        {
          "name": "stdout",
          "output_type": "stream",
          "text": [
            "epoch 47 loss 437.6568145751953\n"
          ]
        },
        {
          "name": "stderr",
          "output_type": "stream",
          "text": [
            "100%|██████████| 172/172 [00:39<00:00,  4.36it/s]\n"
          ]
        },
        {
          "name": "stdout",
          "output_type": "stream",
          "text": [
            "epoch 48 loss 437.6096658041312\n"
          ]
        },
        {
          "name": "stderr",
          "output_type": "stream",
          "text": [
            "100%|██████████| 172/172 [00:39<00:00,  4.35it/s]\n"
          ]
        },
        {
          "name": "stdout",
          "output_type": "stream",
          "text": [
            "epoch 49 loss 437.6137904677278\n"
          ]
        },
        {
          "name": "stderr",
          "output_type": "stream",
          "text": [
            "100%|██████████| 172/172 [00:40<00:00,  4.26it/s]\n"
          ]
        },
        {
          "name": "stdout",
          "output_type": "stream",
          "text": [
            "epoch 50 loss 437.610322641772\n"
          ]
        },
        {
          "name": "stderr",
          "output_type": "stream",
          "text": [
            "100%|██████████| 172/172 [00:39<00:00,  4.38it/s]\n"
          ]
        },
        {
          "name": "stdout",
          "output_type": "stream",
          "text": [
            "epoch 51 loss 437.61944952676447\n"
          ]
        },
        {
          "name": "stderr",
          "output_type": "stream",
          "text": [
            "100%|██████████| 172/172 [00:39<00:00,  4.38it/s]\n"
          ]
        },
        {
          "name": "stdout",
          "output_type": "stream",
          "text": [
            "epoch 52 loss 437.6122040859486\n"
          ]
        },
        {
          "name": "stderr",
          "output_type": "stream",
          "text": [
            "100%|██████████| 172/172 [00:38<00:00,  4.44it/s]\n"
          ]
        },
        {
          "name": "stdout",
          "output_type": "stream",
          "text": [
            "epoch 53 loss 437.6923948775892\n"
          ]
        },
        {
          "name": "stderr",
          "output_type": "stream",
          "text": [
            "100%|██████████| 172/172 [00:40<00:00,  4.28it/s]\n"
          ]
        },
        {
          "name": "stdout",
          "output_type": "stream",
          "text": [
            "epoch 54 loss 437.60871230724246\n"
          ]
        },
        {
          "name": "stderr",
          "output_type": "stream",
          "text": [
            "100%|██████████| 172/172 [00:39<00:00,  4.34it/s]\n"
          ]
        },
        {
          "name": "stdout",
          "output_type": "stream",
          "text": [
            "epoch 55 loss 437.5825874860895\n"
          ]
        },
        {
          "name": "stderr",
          "output_type": "stream",
          "text": [
            "100%|██████████| 172/172 [00:39<00:00,  4.36it/s]\n"
          ]
        },
        {
          "name": "stdout",
          "output_type": "stream",
          "text": [
            "epoch 56 loss 437.599616649539\n"
          ]
        },
        {
          "name": "stderr",
          "output_type": "stream",
          "text": [
            "100%|██████████| 172/172 [00:39<00:00,  4.33it/s]\n"
          ]
        },
        {
          "name": "stdout",
          "output_type": "stream",
          "text": [
            "epoch 57 loss 437.6021755129793\n"
          ]
        },
        {
          "name": "stderr",
          "output_type": "stream",
          "text": [
            "100%|██████████| 172/172 [00:40<00:00,  4.29it/s]\n"
          ]
        },
        {
          "name": "stdout",
          "output_type": "stream",
          "text": [
            "epoch 58 loss 437.61219308542655\n"
          ]
        },
        {
          "name": "stderr",
          "output_type": "stream",
          "text": [
            "100%|██████████| 172/172 [00:39<00:00,  4.36it/s]\n"
          ]
        },
        {
          "name": "stdout",
          "output_type": "stream",
          "text": [
            "epoch 59 loss 437.6045693685844\n"
          ]
        },
        {
          "name": "stderr",
          "output_type": "stream",
          "text": [
            "100%|██████████| 172/172 [00:39<00:00,  4.40it/s]\n"
          ]
        },
        {
          "name": "stdout",
          "output_type": "stream",
          "text": [
            "epoch 60 loss 437.6024441386375\n"
          ]
        },
        {
          "name": "stderr",
          "output_type": "stream",
          "text": [
            "100%|██████████| 172/172 [00:39<00:00,  4.38it/s]\n"
          ]
        },
        {
          "name": "stdout",
          "output_type": "stream",
          "text": [
            "epoch 61 loss 437.59404506239787\n"
          ]
        },
        {
          "name": "stderr",
          "output_type": "stream",
          "text": [
            "100%|██████████| 172/172 [00:39<00:00,  4.38it/s]\n"
          ]
        },
        {
          "name": "stdout",
          "output_type": "stream",
          "text": [
            "epoch 62 loss 437.58942466558403\n"
          ]
        },
        {
          "name": "stderr",
          "output_type": "stream",
          "text": [
            "100%|██████████| 172/172 [00:39<00:00,  4.32it/s]\n"
          ]
        },
        {
          "name": "stdout",
          "output_type": "stream",
          "text": [
            "epoch 63 loss 437.6063450658044\n"
          ]
        },
        {
          "name": "stderr",
          "output_type": "stream",
          "text": [
            "100%|██████████| 172/172 [00:39<00:00,  4.36it/s]\n"
          ]
        },
        {
          "name": "stdout",
          "output_type": "stream",
          "text": [
            "epoch 64 loss 437.61930314884626\n"
          ]
        },
        {
          "name": "stderr",
          "output_type": "stream",
          "text": [
            "100%|██████████| 172/172 [00:39<00:00,  4.40it/s]\n"
          ]
        },
        {
          "name": "stdout",
          "output_type": "stream",
          "text": [
            "epoch 65 loss 437.63366415334264\n"
          ]
        },
        {
          "name": "stderr",
          "output_type": "stream",
          "text": [
            "100%|██████████| 172/172 [00:39<00:00,  4.39it/s]\n"
          ]
        },
        {
          "name": "stdout",
          "output_type": "stream",
          "text": [
            "epoch 66 loss 437.58490220890496\n"
          ]
        },
        {
          "name": "stderr",
          "output_type": "stream",
          "text": [
            "100%|██████████| 172/172 [00:39<00:00,  4.34it/s]\n"
          ]
        },
        {
          "name": "stdout",
          "output_type": "stream",
          "text": [
            "epoch 67 loss 437.574229395667\n"
          ]
        },
        {
          "name": "stderr",
          "output_type": "stream",
          "text": [
            "100%|██████████| 172/172 [00:38<00:00,  4.45it/s]\n"
          ]
        },
        {
          "name": "stdout",
          "output_type": "stream",
          "text": [
            "epoch 68 loss 437.5420198662339\n"
          ]
        },
        {
          "name": "stderr",
          "output_type": "stream",
          "text": [
            "100%|██████████| 172/172 [00:38<00:00,  4.46it/s]\n"
          ]
        },
        {
          "name": "stdout",
          "output_type": "stream",
          "text": [
            "epoch 69 loss 437.5360645028048\n"
          ]
        },
        {
          "name": "stderr",
          "output_type": "stream",
          "text": [
            "100%|██████████| 172/172 [00:38<00:00,  4.44it/s]\n"
          ]
        },
        {
          "name": "stdout",
          "output_type": "stream",
          "text": [
            "epoch 70 loss 437.5393641272258\n"
          ]
        },
        {
          "name": "stderr",
          "output_type": "stream",
          "text": [
            "100%|██████████| 172/172 [00:39<00:00,  4.36it/s]\n"
          ]
        },
        {
          "name": "stdout",
          "output_type": "stream",
          "text": [
            "epoch 71 loss 437.56260823094544\n"
          ]
        },
        {
          "name": "stderr",
          "output_type": "stream",
          "text": [
            "100%|██████████| 172/172 [00:39<00:00,  4.31it/s]\n"
          ]
        },
        {
          "name": "stdout",
          "output_type": "stream",
          "text": [
            "epoch 72 loss 437.5541553940883\n"
          ]
        },
        {
          "name": "stderr",
          "output_type": "stream",
          "text": [
            "100%|██████████| 172/172 [00:38<00:00,  4.46it/s]\n"
          ]
        },
        {
          "name": "stdout",
          "output_type": "stream",
          "text": [
            "epoch 73 loss 437.54898940685194\n"
          ]
        },
        {
          "name": "stderr",
          "output_type": "stream",
          "text": [
            "100%|██████████| 172/172 [00:39<00:00,  4.40it/s]\n"
          ]
        },
        {
          "name": "stdout",
          "output_type": "stream",
          "text": [
            "epoch 74 loss 437.5633520081987\n"
          ]
        },
        {
          "name": "stderr",
          "output_type": "stream",
          "text": [
            "100%|██████████| 172/172 [00:38<00:00,  4.42it/s]\n"
          ]
        },
        {
          "name": "stdout",
          "output_type": "stream",
          "text": [
            "epoch 75 loss 437.5533237900844\n"
          ]
        },
        {
          "name": "stderr",
          "output_type": "stream",
          "text": [
            "100%|██████████| 172/172 [00:39<00:00,  4.32it/s]\n"
          ]
        },
        {
          "name": "stdout",
          "output_type": "stream",
          "text": [
            "epoch 76 loss 437.51734693660285\n"
          ]
        },
        {
          "name": "stderr",
          "output_type": "stream",
          "text": [
            "100%|██████████| 172/172 [00:37<00:00,  4.56it/s]\n"
          ]
        },
        {
          "name": "stdout",
          "output_type": "stream",
          "text": [
            "epoch 77 loss 437.5584152576536\n"
          ]
        },
        {
          "name": "stderr",
          "output_type": "stream",
          "text": [
            "100%|██████████| 172/172 [00:37<00:00,  4.60it/s]\n"
          ]
        },
        {
          "name": "stdout",
          "output_type": "stream",
          "text": [
            "epoch 78 loss 437.54363481388555\n"
          ]
        },
        {
          "name": "stderr",
          "output_type": "stream",
          "text": [
            "100%|██████████| 172/172 [00:39<00:00,  4.32it/s]\n"
          ]
        },
        {
          "name": "stdout",
          "output_type": "stream",
          "text": [
            "epoch 79 loss 437.5263402184773\n"
          ]
        },
        {
          "name": "stderr",
          "output_type": "stream",
          "text": [
            "100%|██████████| 172/172 [00:39<00:00,  4.37it/s]\n"
          ]
        },
        {
          "name": "stdout",
          "output_type": "stream",
          "text": [
            "epoch 80 loss 437.51485212459124\n"
          ]
        },
        {
          "name": "stderr",
          "output_type": "stream",
          "text": [
            "100%|██████████| 172/172 [00:39<00:00,  4.40it/s]\n"
          ]
        },
        {
          "name": "stdout",
          "output_type": "stream",
          "text": [
            "epoch 81 loss 437.5479819719181\n"
          ]
        },
        {
          "name": "stderr",
          "output_type": "stream",
          "text": [
            "100%|██████████| 172/172 [00:39<00:00,  4.39it/s]\n"
          ]
        },
        {
          "name": "stdout",
          "output_type": "stream",
          "text": [
            "epoch 82 loss 437.5382188309068\n"
          ]
        },
        {
          "name": "stderr",
          "output_type": "stream",
          "text": [
            "100%|██████████| 172/172 [00:39<00:00,  4.36it/s]\n"
          ]
        },
        {
          "name": "stdout",
          "output_type": "stream",
          "text": [
            "epoch 83 loss 437.50735988173375\n"
          ]
        },
        {
          "name": "stderr",
          "output_type": "stream",
          "text": [
            "100%|██████████| 172/172 [00:38<00:00,  4.49it/s]\n"
          ]
        },
        {
          "name": "stdout",
          "output_type": "stream",
          "text": [
            "epoch 84 loss 437.5134140724362\n"
          ]
        },
        {
          "name": "stderr",
          "output_type": "stream",
          "text": [
            "100%|██████████| 172/172 [00:38<00:00,  4.42it/s]\n"
          ]
        },
        {
          "name": "stdout",
          "output_type": "stream",
          "text": [
            "epoch 85 loss 437.52523360141487\n"
          ]
        },
        {
          "name": "stderr",
          "output_type": "stream",
          "text": [
            "100%|██████████| 172/172 [00:39<00:00,  4.41it/s]\n"
          ]
        },
        {
          "name": "stdout",
          "output_type": "stream",
          "text": [
            "epoch 86 loss 437.52267615739675\n"
          ]
        },
        {
          "name": "stderr",
          "output_type": "stream",
          "text": [
            "100%|██████████| 172/172 [00:39<00:00,  4.38it/s]\n"
          ]
        },
        {
          "name": "stdout",
          "output_type": "stream",
          "text": [
            "epoch 87 loss 437.5285035953965\n"
          ]
        },
        {
          "name": "stderr",
          "output_type": "stream",
          "text": [
            "100%|██████████| 172/172 [00:39<00:00,  4.34it/s]\n"
          ]
        },
        {
          "name": "stdout",
          "output_type": "stream",
          "text": [
            "epoch 88 loss 437.5005973993348\n"
          ]
        },
        {
          "name": "stderr",
          "output_type": "stream",
          "text": [
            "100%|██████████| 172/172 [00:38<00:00,  4.42it/s]\n"
          ]
        },
        {
          "name": "stdout",
          "output_type": "stream",
          "text": [
            "epoch 89 loss 437.49920494611905\n"
          ]
        },
        {
          "name": "stderr",
          "output_type": "stream",
          "text": [
            "100%|██████████| 172/172 [00:38<00:00,  4.48it/s]\n"
          ]
        },
        {
          "name": "stdout",
          "output_type": "stream",
          "text": [
            "epoch 90 loss 437.47752309399965\n"
          ]
        },
        {
          "name": "stderr",
          "output_type": "stream",
          "text": [
            "100%|██████████| 172/172 [00:39<00:00,  4.38it/s]\n"
          ]
        },
        {
          "name": "stdout",
          "output_type": "stream",
          "text": [
            "epoch 91 loss 437.475820319597\n"
          ]
        },
        {
          "name": "stderr",
          "output_type": "stream",
          "text": [
            "100%|██████████| 172/172 [00:40<00:00,  4.26it/s]\n"
          ]
        },
        {
          "name": "stdout",
          "output_type": "stream",
          "text": [
            "epoch 92 loss 437.4987528601362\n"
          ]
        },
        {
          "name": "stderr",
          "output_type": "stream",
          "text": [
            "100%|██████████| 172/172 [00:39<00:00,  4.37it/s]\n"
          ]
        },
        {
          "name": "stdout",
          "output_type": "stream",
          "text": [
            "epoch 93 loss 437.5103443944178\n"
          ]
        },
        {
          "name": "stderr",
          "output_type": "stream",
          "text": [
            "100%|██████████| 172/172 [00:39<00:00,  4.38it/s]\n"
          ]
        },
        {
          "name": "stdout",
          "output_type": "stream",
          "text": [
            "epoch 94 loss 437.49202018560356\n"
          ]
        },
        {
          "name": "stderr",
          "output_type": "stream",
          "text": [
            "100%|██████████| 172/172 [00:39<00:00,  4.36it/s]\n"
          ]
        },
        {
          "name": "stdout",
          "output_type": "stream",
          "text": [
            "epoch 95 loss 437.48855324678647\n"
          ]
        },
        {
          "name": "stderr",
          "output_type": "stream",
          "text": [
            "100%|██████████| 172/172 [00:39<00:00,  4.35it/s]\n"
          ]
        },
        {
          "name": "stdout",
          "output_type": "stream",
          "text": [
            "epoch 96 loss 437.4700218023255\n"
          ]
        },
        {
          "name": "stderr",
          "output_type": "stream",
          "text": [
            "100%|██████████| 172/172 [00:40<00:00,  4.29it/s]\n"
          ]
        },
        {
          "name": "stdout",
          "output_type": "stream",
          "text": [
            "epoch 97 loss 437.47888893304867\n"
          ]
        },
        {
          "name": "stderr",
          "output_type": "stream",
          "text": [
            "100%|██████████| 172/172 [00:38<00:00,  4.47it/s]\n"
          ]
        },
        {
          "name": "stdout",
          "output_type": "stream",
          "text": [
            "epoch 98 loss 437.5459585855172\n"
          ]
        },
        {
          "name": "stderr",
          "output_type": "stream",
          "text": [
            "100%|██████████| 172/172 [00:38<00:00,  4.42it/s]\n"
          ]
        },
        {
          "name": "stdout",
          "output_type": "stream",
          "text": [
            "epoch 99 loss 437.5249633789065\n"
          ]
        },
        {
          "name": "stderr",
          "output_type": "stream",
          "text": [
            "100%|██████████| 172/172 [00:39<00:00,  4.41it/s]\n"
          ]
        },
        {
          "name": "stdout",
          "output_type": "stream",
          "text": [
            "epoch 100 loss 437.48151450933386\n"
          ]
        },
        {
          "name": "stderr",
          "output_type": "stream",
          "text": [
            "100%|██████████| 172/172 [00:40<00:00,  4.29it/s]\n"
          ]
        },
        {
          "name": "stdout",
          "output_type": "stream",
          "text": [
            "epoch 101 loss 437.48002429341165\n"
          ]
        },
        {
          "name": "stderr",
          "output_type": "stream",
          "text": [
            "100%|██████████| 172/172 [00:39<00:00,  4.38it/s]\n"
          ]
        },
        {
          "name": "stdout",
          "output_type": "stream",
          "text": [
            "epoch 102 loss 437.4869196692176\n"
          ]
        },
        {
          "name": "stderr",
          "output_type": "stream",
          "text": [
            "100%|██████████| 172/172 [00:39<00:00,  4.37it/s]\n"
          ]
        },
        {
          "name": "stdout",
          "output_type": "stream",
          "text": [
            "epoch 103 loss 437.470261507256\n"
          ]
        },
        {
          "name": "stderr",
          "output_type": "stream",
          "text": [
            "100%|██████████| 172/172 [00:38<00:00,  4.45it/s]\n"
          ]
        },
        {
          "name": "stdout",
          "output_type": "stream",
          "text": [
            "epoch 104 loss 437.4544771771097\n"
          ]
        },
        {
          "name": "stderr",
          "output_type": "stream",
          "text": [
            "100%|██████████| 172/172 [00:38<00:00,  4.48it/s]\n"
          ]
        },
        {
          "name": "stdout",
          "output_type": "stream",
          "text": [
            "epoch 105 loss 437.43918467676934\n"
          ]
        },
        {
          "name": "stderr",
          "output_type": "stream",
          "text": [
            "100%|██████████| 172/172 [00:38<00:00,  4.41it/s]\n"
          ]
        },
        {
          "name": "stdout",
          "output_type": "stream",
          "text": [
            "epoch 106 loss 437.4570140395055\n"
          ]
        },
        {
          "name": "stderr",
          "output_type": "stream",
          "text": [
            "100%|██████████| 172/172 [00:37<00:00,  4.54it/s]\n"
          ]
        },
        {
          "name": "stdout",
          "output_type": "stream",
          "text": [
            "epoch 107 loss 437.4534825169763\n"
          ]
        },
        {
          "name": "stderr",
          "output_type": "stream",
          "text": [
            "100%|██████████| 172/172 [00:37<00:00,  4.56it/s]\n"
          ]
        },
        {
          "name": "stdout",
          "output_type": "stream",
          "text": [
            "epoch 108 loss 437.44613913602603\n"
          ]
        },
        {
          "name": "stderr",
          "output_type": "stream",
          "text": [
            "100%|██████████| 172/172 [00:38<00:00,  4.49it/s]\n"
          ]
        },
        {
          "name": "stdout",
          "output_type": "stream",
          "text": [
            "epoch 109 loss 437.5087824976722\n"
          ]
        },
        {
          "name": "stderr",
          "output_type": "stream",
          "text": [
            "100%|██████████| 172/172 [00:38<00:00,  4.43it/s]\n"
          ]
        },
        {
          "name": "stdout",
          "output_type": "stream",
          "text": [
            "epoch 110 loss 437.48468886974257\n"
          ]
        },
        {
          "name": "stderr",
          "output_type": "stream",
          "text": [
            "100%|██████████| 172/172 [00:40<00:00,  4.29it/s]\n"
          ]
        },
        {
          "name": "stdout",
          "output_type": "stream",
          "text": [
            "epoch 111 loss 437.4690314004587\n"
          ]
        },
        {
          "name": "stderr",
          "output_type": "stream",
          "text": [
            "100%|██████████| 172/172 [00:38<00:00,  4.41it/s]\n"
          ]
        },
        {
          "name": "stdout",
          "output_type": "stream",
          "text": [
            "epoch 112 loss 437.4372432620025\n"
          ]
        },
        {
          "name": "stderr",
          "output_type": "stream",
          "text": [
            "100%|██████████| 172/172 [00:39<00:00,  4.40it/s]\n"
          ]
        },
        {
          "name": "stdout",
          "output_type": "stream",
          "text": [
            "epoch 113 loss 437.4323230122413\n"
          ]
        },
        {
          "name": "stderr",
          "output_type": "stream",
          "text": [
            "100%|██████████| 172/172 [00:38<00:00,  4.44it/s]\n"
          ]
        },
        {
          "name": "stdout",
          "output_type": "stream",
          "text": [
            "epoch 114 loss 437.442689939987\n"
          ]
        },
        {
          "name": "stderr",
          "output_type": "stream",
          "text": [
            "100%|██████████| 172/172 [00:39<00:00,  4.31it/s]\n"
          ]
        },
        {
          "name": "stdout",
          "output_type": "stream",
          "text": [
            "epoch 115 loss 437.4525320363599\n"
          ]
        },
        {
          "name": "stderr",
          "output_type": "stream",
          "text": [
            "100%|██████████| 172/172 [00:39<00:00,  4.40it/s]\n"
          ]
        },
        {
          "name": "stdout",
          "output_type": "stream",
          "text": [
            "epoch 116 loss 437.4404406880223\n"
          ]
        },
        {
          "name": "stderr",
          "output_type": "stream",
          "text": [
            "100%|██████████| 172/172 [00:38<00:00,  4.43it/s]\n"
          ]
        },
        {
          "name": "stdout",
          "output_type": "stream",
          "text": [
            "epoch 117 loss 437.4474283262739\n"
          ]
        },
        {
          "name": "stderr",
          "output_type": "stream",
          "text": [
            "100%|██████████| 172/172 [00:38<00:00,  4.41it/s]\n"
          ]
        },
        {
          "name": "stdout",
          "output_type": "stream",
          "text": [
            "epoch 118 loss 437.4301324888717\n"
          ]
        },
        {
          "name": "stderr",
          "output_type": "stream",
          "text": [
            "100%|██████████| 172/172 [00:39<00:00,  4.40it/s]\n"
          ]
        },
        {
          "name": "stdout",
          "output_type": "stream",
          "text": [
            "epoch 119 loss 437.452701125034\n"
          ]
        },
        {
          "name": "stderr",
          "output_type": "stream",
          "text": [
            "100%|██████████| 172/172 [00:39<00:00,  4.35it/s]\n"
          ]
        },
        {
          "name": "stdout",
          "output_type": "stream",
          "text": [
            "epoch 120 loss 437.46832665731733\n"
          ]
        },
        {
          "name": "stderr",
          "output_type": "stream",
          "text": [
            "100%|██████████| 172/172 [00:38<00:00,  4.43it/s]\n"
          ]
        },
        {
          "name": "stdout",
          "output_type": "stream",
          "text": [
            "epoch 121 loss 437.43144527701435\n"
          ]
        },
        {
          "name": "stderr",
          "output_type": "stream",
          "text": [
            "100%|██████████| 172/172 [00:39<00:00,  4.39it/s]\n"
          ]
        },
        {
          "name": "stdout",
          "output_type": "stream",
          "text": [
            "epoch 122 loss 437.42602006779157\n"
          ]
        },
        {
          "name": "stderr",
          "output_type": "stream",
          "text": [
            "100%|██████████| 172/172 [00:39<00:00,  4.40it/s]\n"
          ]
        },
        {
          "name": "stdout",
          "output_type": "stream",
          "text": [
            "epoch 123 loss 437.42154533918495\n"
          ]
        },
        {
          "name": "stderr",
          "output_type": "stream",
          "text": [
            "100%|██████████| 172/172 [00:39<00:00,  4.36it/s]\n"
          ]
        },
        {
          "name": "stdout",
          "output_type": "stream",
          "text": [
            "epoch 124 loss 437.4166650106742\n"
          ]
        },
        {
          "name": "stderr",
          "output_type": "stream",
          "text": [
            "100%|██████████| 172/172 [00:39<00:00,  4.33it/s]\n"
          ]
        },
        {
          "name": "stdout",
          "output_type": "stream",
          "text": [
            "epoch 125 loss 437.4051201398985\n"
          ]
        },
        {
          "name": "stderr",
          "output_type": "stream",
          "text": [
            "100%|██████████| 172/172 [00:38<00:00,  4.41it/s]\n"
          ]
        },
        {
          "name": "stdout",
          "output_type": "stream",
          "text": [
            "epoch 126 loss 437.40134128304425\n"
          ]
        },
        {
          "name": "stderr",
          "output_type": "stream",
          "text": [
            "100%|██████████| 172/172 [00:38<00:00,  4.52it/s]\n"
          ]
        },
        {
          "name": "stdout",
          "output_type": "stream",
          "text": [
            "epoch 127 loss 437.5402450561524\n"
          ]
        },
        {
          "name": "stderr",
          "output_type": "stream",
          "text": [
            "100%|██████████| 172/172 [00:37<00:00,  4.58it/s]\n"
          ]
        },
        {
          "name": "stdout",
          "output_type": "stream",
          "text": [
            "epoch 128 loss 437.43928882687595\n"
          ]
        },
        {
          "name": "stderr",
          "output_type": "stream",
          "text": [
            "100%|██████████| 172/172 [00:37<00:00,  4.55it/s]\n"
          ]
        },
        {
          "name": "stdout",
          "output_type": "stream",
          "text": [
            "epoch 129 loss 437.4193179108378\n"
          ]
        },
        {
          "name": "stderr",
          "output_type": "stream",
          "text": [
            "100%|██████████| 172/172 [00:40<00:00,  4.29it/s]\n"
          ]
        },
        {
          "name": "stdout",
          "output_type": "stream",
          "text": [
            "epoch 130 loss 437.3927512945131\n"
          ]
        },
        {
          "name": "stderr",
          "output_type": "stream",
          "text": [
            "100%|██████████| 172/172 [00:39<00:00,  4.41it/s]\n"
          ]
        },
        {
          "name": "stdout",
          "output_type": "stream",
          "text": [
            "epoch 131 loss 437.39836546432156\n"
          ]
        },
        {
          "name": "stderr",
          "output_type": "stream",
          "text": [
            "100%|██████████| 172/172 [00:39<00:00,  4.41it/s]\n"
          ]
        },
        {
          "name": "stdout",
          "output_type": "stream",
          "text": [
            "epoch 132 loss 437.37856895979064\n"
          ]
        },
        {
          "name": "stderr",
          "output_type": "stream",
          "text": [
            "100%|██████████| 172/172 [00:38<00:00,  4.47it/s]\n"
          ]
        },
        {
          "name": "stdout",
          "output_type": "stream",
          "text": [
            "epoch 133 loss 437.39884043848787\n"
          ]
        },
        {
          "name": "stderr",
          "output_type": "stream",
          "text": [
            "100%|██████████| 172/172 [00:39<00:00,  4.32it/s]\n"
          ]
        },
        {
          "name": "stdout",
          "output_type": "stream",
          "text": [
            "epoch 134 loss 437.3883338750794\n"
          ]
        },
        {
          "name": "stderr",
          "output_type": "stream",
          "text": [
            "100%|██████████| 172/172 [00:39<00:00,  4.35it/s]\n"
          ]
        },
        {
          "name": "stdout",
          "output_type": "stream",
          "text": [
            "epoch 135 loss 437.40046851579547\n"
          ]
        },
        {
          "name": "stderr",
          "output_type": "stream",
          "text": [
            "100%|██████████| 172/172 [00:39<00:00,  4.38it/s]\n"
          ]
        },
        {
          "name": "stdout",
          "output_type": "stream",
          "text": [
            "epoch 136 loss 437.4569879576217\n"
          ]
        },
        {
          "name": "stderr",
          "output_type": "stream",
          "text": [
            "100%|██████████| 172/172 [00:38<00:00,  4.42it/s]\n"
          ]
        },
        {
          "name": "stdout",
          "output_type": "stream",
          "text": [
            "epoch 137 loss 437.41869194563037\n"
          ]
        },
        {
          "name": "stderr",
          "output_type": "stream",
          "text": [
            "100%|██████████| 172/172 [00:39<00:00,  4.39it/s]\n"
          ]
        },
        {
          "name": "stdout",
          "output_type": "stream",
          "text": [
            "epoch 138 loss 437.3900398431825\n"
          ]
        },
        {
          "name": "stderr",
          "output_type": "stream",
          "text": [
            "100%|██████████| 172/172 [00:39<00:00,  4.36it/s]\n"
          ]
        },
        {
          "name": "stdout",
          "output_type": "stream",
          "text": [
            "epoch 139 loss 437.3728117831917\n"
          ]
        },
        {
          "name": "stderr",
          "output_type": "stream",
          "text": [
            "100%|██████████| 172/172 [00:38<00:00,  4.43it/s]\n"
          ]
        },
        {
          "name": "stdout",
          "output_type": "stream",
          "text": [
            "epoch 140 loss 437.3691862239392\n"
          ]
        },
        {
          "name": "stderr",
          "output_type": "stream",
          "text": [
            "100%|██████████| 172/172 [00:39<00:00,  4.40it/s]\n"
          ]
        },
        {
          "name": "stdout",
          "output_type": "stream",
          "text": [
            "epoch 141 loss 437.3779387363169\n"
          ]
        },
        {
          "name": "stderr",
          "output_type": "stream",
          "text": [
            "100%|██████████| 172/172 [00:39<00:00,  4.34it/s]\n"
          ]
        },
        {
          "name": "stdout",
          "output_type": "stream",
          "text": [
            "epoch 142 loss 437.3755163148393\n"
          ]
        },
        {
          "name": "stderr",
          "output_type": "stream",
          "text": [
            "100%|██████████| 172/172 [00:39<00:00,  4.34it/s]\n"
          ]
        },
        {
          "name": "stdout",
          "output_type": "stream",
          "text": [
            "epoch 143 loss 437.3961428265238\n"
          ]
        },
        {
          "name": "stderr",
          "output_type": "stream",
          "text": [
            "100%|██████████| 172/172 [00:39<00:00,  4.39it/s]\n"
          ]
        },
        {
          "name": "stdout",
          "output_type": "stream",
          "text": [
            "epoch 144 loss 437.4120983744777\n"
          ]
        },
        {
          "name": "stderr",
          "output_type": "stream",
          "text": [
            "100%|██████████| 172/172 [00:38<00:00,  4.45it/s]\n"
          ]
        },
        {
          "name": "stdout",
          "output_type": "stream",
          "text": [
            "epoch 145 loss 437.3935227504998\n"
          ]
        },
        {
          "name": "stderr",
          "output_type": "stream",
          "text": [
            "100%|██████████| 172/172 [00:39<00:00,  4.41it/s]\n"
          ]
        },
        {
          "name": "stdout",
          "output_type": "stream",
          "text": [
            "epoch 146 loss 437.3927346163019\n"
          ]
        },
        {
          "name": "stderr",
          "output_type": "stream",
          "text": [
            "100%|██████████| 172/172 [00:38<00:00,  4.42it/s]\n"
          ]
        },
        {
          "name": "stdout",
          "output_type": "stream",
          "text": [
            "epoch 147 loss 437.3831128852311\n"
          ]
        },
        {
          "name": "stderr",
          "output_type": "stream",
          "text": [
            "100%|██████████| 172/172 [00:38<00:00,  4.43it/s]\n"
          ]
        },
        {
          "name": "stdout",
          "output_type": "stream",
          "text": [
            "epoch 148 loss 437.3947732614914\n"
          ]
        },
        {
          "name": "stderr",
          "output_type": "stream",
          "text": [
            "100%|██████████| 172/172 [00:39<00:00,  4.35it/s]\n"
          ]
        },
        {
          "name": "stdout",
          "output_type": "stream",
          "text": [
            "epoch 149 loss 437.40179212703265\n"
          ]
        },
        {
          "name": "stderr",
          "output_type": "stream",
          "text": [
            "100%|██████████| 172/172 [00:38<00:00,  4.46it/s]\n"
          ]
        },
        {
          "name": "stdout",
          "output_type": "stream",
          "text": [
            "epoch 150 loss 437.39094987026476\n"
          ]
        },
        {
          "name": "stderr",
          "output_type": "stream",
          "text": [
            "100%|██████████| 172/172 [00:38<00:00,  4.46it/s]\n"
          ]
        },
        {
          "name": "stdout",
          "output_type": "stream",
          "text": [
            "epoch 151 loss 437.37006271717144\n"
          ]
        },
        {
          "name": "stderr",
          "output_type": "stream",
          "text": [
            "100%|██████████| 172/172 [00:39<00:00,  4.39it/s]\n"
          ]
        },
        {
          "name": "stdout",
          "output_type": "stream",
          "text": [
            "epoch 152 loss 437.3469156664469\n"
          ]
        },
        {
          "name": "stderr",
          "output_type": "stream",
          "text": [
            "100%|██████████| 172/172 [00:38<00:00,  4.42it/s]\n"
          ]
        },
        {
          "name": "stdout",
          "output_type": "stream",
          "text": [
            "epoch 153 loss 437.360837359761\n"
          ]
        },
        {
          "name": "stderr",
          "output_type": "stream",
          "text": [
            "100%|██████████| 172/172 [00:39<00:00,  4.33it/s]\n"
          ]
        },
        {
          "name": "stdout",
          "output_type": "stream",
          "text": [
            "epoch 154 loss 437.3708425122638\n"
          ]
        },
        {
          "name": "stderr",
          "output_type": "stream",
          "text": [
            "100%|██████████| 172/172 [00:38<00:00,  4.41it/s]\n"
          ]
        },
        {
          "name": "stdout",
          "output_type": "stream",
          "text": [
            "epoch 155 loss 437.36042182390054\n"
          ]
        },
        {
          "name": "stderr",
          "output_type": "stream",
          "text": [
            "100%|██████████| 172/172 [00:39<00:00,  4.40it/s]\n"
          ]
        },
        {
          "name": "stdout",
          "output_type": "stream",
          "text": [
            "epoch 156 loss 437.36523437499994\n"
          ]
        },
        {
          "name": "stderr",
          "output_type": "stream",
          "text": [
            "100%|██████████| 172/172 [00:38<00:00,  4.45it/s]\n"
          ]
        },
        {
          "name": "stdout",
          "output_type": "stream",
          "text": [
            "epoch 157 loss 437.3646951719773\n"
          ]
        },
        {
          "name": "stderr",
          "output_type": "stream",
          "text": [
            "100%|██████████| 172/172 [00:38<00:00,  4.44it/s]\n"
          ]
        },
        {
          "name": "stdout",
          "output_type": "stream",
          "text": [
            "epoch 158 loss 437.3909505799759\n"
          ]
        },
        {
          "name": "stderr",
          "output_type": "stream",
          "text": [
            "100%|██████████| 172/172 [00:39<00:00,  4.35it/s]\n"
          ]
        },
        {
          "name": "stdout",
          "output_type": "stream",
          "text": [
            "epoch 159 loss 437.41979572384884\n"
          ]
        },
        {
          "name": "stderr",
          "output_type": "stream",
          "text": [
            "100%|██████████| 172/172 [00:38<00:00,  4.42it/s]\n"
          ]
        },
        {
          "name": "stdout",
          "output_type": "stream",
          "text": [
            "epoch 160 loss 437.4453937619232\n"
          ]
        },
        {
          "name": "stderr",
          "output_type": "stream",
          "text": [
            "100%|██████████| 172/172 [00:39<00:00,  4.40it/s]\n"
          ]
        },
        {
          "name": "stdout",
          "output_type": "stream",
          "text": [
            "epoch 161 loss 437.38897155052007\n"
          ]
        },
        {
          "name": "stderr",
          "output_type": "stream",
          "text": [
            "100%|██████████| 172/172 [00:39<00:00,  4.41it/s]\n"
          ]
        },
        {
          "name": "stdout",
          "output_type": "stream",
          "text": [
            "epoch 162 loss 437.36695879559204\n"
          ]
        },
        {
          "name": "stderr",
          "output_type": "stream",
          "text": [
            "100%|██████████| 172/172 [00:38<00:00,  4.48it/s]\n"
          ]
        },
        {
          "name": "stdout",
          "output_type": "stream",
          "text": [
            "epoch 163 loss 437.3460505285931\n"
          ]
        },
        {
          "name": "stderr",
          "output_type": "stream",
          "text": [
            "100%|██████████| 172/172 [00:39<00:00,  4.37it/s]\n"
          ]
        },
        {
          "name": "stdout",
          "output_type": "stream",
          "text": [
            "epoch 164 loss 437.32897931475986\n"
          ]
        },
        {
          "name": "stderr",
          "output_type": "stream",
          "text": [
            "100%|██████████| 172/172 [00:38<00:00,  4.42it/s]\n"
          ]
        },
        {
          "name": "stdout",
          "output_type": "stream",
          "text": [
            "epoch 165 loss 437.3403726622117\n"
          ]
        },
        {
          "name": "stderr",
          "output_type": "stream",
          "text": [
            "100%|██████████| 172/172 [00:38<00:00,  4.42it/s]\n"
          ]
        },
        {
          "name": "stdout",
          "output_type": "stream",
          "text": [
            "epoch 166 loss 437.336097894713\n"
          ]
        },
        {
          "name": "stderr",
          "output_type": "stream",
          "text": [
            "100%|██████████| 172/172 [00:38<00:00,  4.42it/s]\n"
          ]
        },
        {
          "name": "stdout",
          "output_type": "stream",
          "text": [
            "epoch 167 loss 437.35924689714307\n"
          ]
        },
        {
          "name": "stderr",
          "output_type": "stream",
          "text": [
            "100%|██████████| 172/172 [00:38<00:00,  4.43it/s]\n"
          ]
        },
        {
          "name": "stdout",
          "output_type": "stream",
          "text": [
            "epoch 168 loss 437.34974741381274\n"
          ]
        },
        {
          "name": "stderr",
          "output_type": "stream",
          "text": [
            "100%|██████████| 172/172 [00:39<00:00,  4.40it/s]\n"
          ]
        },
        {
          "name": "stdout",
          "output_type": "stream",
          "text": [
            "epoch 169 loss 437.3438647957736\n"
          ]
        },
        {
          "name": "stderr",
          "output_type": "stream",
          "text": [
            "100%|██████████| 172/172 [00:38<00:00,  4.44it/s]\n"
          ]
        },
        {
          "name": "stdout",
          "output_type": "stream",
          "text": [
            "epoch 170 loss 437.3398875746617\n"
          ]
        },
        {
          "name": "stderr",
          "output_type": "stream",
          "text": [
            "100%|██████████| 172/172 [00:38<00:00,  4.43it/s]\n"
          ]
        },
        {
          "name": "stdout",
          "output_type": "stream",
          "text": [
            "epoch 171 loss 437.34053394406334\n"
          ]
        },
        {
          "name": "stderr",
          "output_type": "stream",
          "text": [
            "100%|██████████| 172/172 [00:39<00:00,  4.41it/s]\n"
          ]
        },
        {
          "name": "stdout",
          "output_type": "stream",
          "text": [
            "epoch 172 loss 437.3501618851062\n"
          ]
        },
        {
          "name": "stderr",
          "output_type": "stream",
          "text": [
            "100%|██████████| 172/172 [00:39<00:00,  4.40it/s]\n"
          ]
        },
        {
          "name": "stdout",
          "output_type": "stream",
          "text": [
            "epoch 173 loss 437.3574358917947\n"
          ]
        },
        {
          "name": "stderr",
          "output_type": "stream",
          "text": [
            "100%|██████████| 172/172 [00:39<00:00,  4.31it/s]\n"
          ]
        },
        {
          "name": "stdout",
          "output_type": "stream",
          "text": [
            "epoch 174 loss 437.3500041518103\n"
          ]
        },
        {
          "name": "stderr",
          "output_type": "stream",
          "text": [
            "100%|██████████| 172/172 [00:38<00:00,  4.42it/s]\n"
          ]
        },
        {
          "name": "stdout",
          "output_type": "stream",
          "text": [
            "epoch 175 loss 437.349598906761\n"
          ]
        },
        {
          "name": "stderr",
          "output_type": "stream",
          "text": [
            "100%|██████████| 172/172 [00:38<00:00,  4.44it/s]\n"
          ]
        },
        {
          "name": "stdout",
          "output_type": "stream",
          "text": [
            "epoch 176 loss 437.3511815625571\n"
          ]
        },
        {
          "name": "stderr",
          "output_type": "stream",
          "text": [
            "100%|██████████| 172/172 [00:39<00:00,  4.39it/s]\n"
          ]
        },
        {
          "name": "stdout",
          "output_type": "stream",
          "text": [
            "epoch 177 loss 437.3413440793061\n"
          ]
        },
        {
          "name": "stderr",
          "output_type": "stream",
          "text": [
            "100%|██████████| 172/172 [00:39<00:00,  4.41it/s]\n"
          ]
        },
        {
          "name": "stdout",
          "output_type": "stream",
          "text": [
            "epoch 178 loss 437.33890994759497\n"
          ]
        },
        {
          "name": "stderr",
          "output_type": "stream",
          "text": [
            "100%|██████████| 172/172 [00:40<00:00,  4.30it/s]\n"
          ]
        },
        {
          "name": "stdout",
          "output_type": "stream",
          "text": [
            "epoch 179 loss 437.41348373058224\n"
          ]
        },
        {
          "name": "stderr",
          "output_type": "stream",
          "text": [
            "100%|██████████| 172/172 [00:38<00:00,  4.42it/s]\n"
          ]
        },
        {
          "name": "stdout",
          "output_type": "stream",
          "text": [
            "epoch 180 loss 437.4016709438588\n"
          ]
        },
        {
          "name": "stderr",
          "output_type": "stream",
          "text": [
            "100%|██████████| 172/172 [00:38<00:00,  4.46it/s]\n"
          ]
        },
        {
          "name": "stdout",
          "output_type": "stream",
          "text": [
            "epoch 181 loss 437.35751200831214\n"
          ]
        },
        {
          "name": "stderr",
          "output_type": "stream",
          "text": [
            "100%|██████████| 172/172 [00:38<00:00,  4.43it/s]\n"
          ]
        },
        {
          "name": "stdout",
          "output_type": "stream",
          "text": [
            "epoch 182 loss 437.3265481993207\n"
          ]
        },
        {
          "name": "stderr",
          "output_type": "stream",
          "text": [
            "100%|██████████| 172/172 [00:39<00:00,  4.41it/s]\n"
          ]
        },
        {
          "name": "stdout",
          "output_type": "stream",
          "text": [
            "epoch 183 loss 437.310520438261\n"
          ]
        },
        {
          "name": "stderr",
          "output_type": "stream",
          "text": [
            "100%|██████████| 172/172 [00:39<00:00,  4.32it/s]\n"
          ]
        },
        {
          "name": "stdout",
          "output_type": "stream",
          "text": [
            "epoch 184 loss 437.2982197251431\n"
          ]
        },
        {
          "name": "stderr",
          "output_type": "stream",
          "text": [
            "100%|██████████| 172/172 [00:38<00:00,  4.42it/s]\n"
          ]
        },
        {
          "name": "stdout",
          "output_type": "stream",
          "text": [
            "epoch 185 loss 437.31561776094645\n"
          ]
        },
        {
          "name": "stderr",
          "output_type": "stream",
          "text": [
            "100%|██████████| 172/172 [00:38<00:00,  4.43it/s]\n"
          ]
        },
        {
          "name": "stdout",
          "output_type": "stream",
          "text": [
            "epoch 186 loss 437.3167373302369\n"
          ]
        },
        {
          "name": "stderr",
          "output_type": "stream",
          "text": [
            "100%|██████████| 172/172 [00:38<00:00,  4.48it/s]\n"
          ]
        },
        {
          "name": "stdout",
          "output_type": "stream",
          "text": [
            "epoch 187 loss 437.30398045029733\n"
          ]
        },
        {
          "name": "stderr",
          "output_type": "stream",
          "text": [
            "100%|██████████| 172/172 [00:38<00:00,  4.48it/s]\n"
          ]
        },
        {
          "name": "stdout",
          "output_type": "stream",
          "text": [
            "epoch 188 loss 437.33262687505663\n"
          ]
        },
        {
          "name": "stderr",
          "output_type": "stream",
          "text": [
            "100%|██████████| 172/172 [00:39<00:00,  4.31it/s]\n"
          ]
        },
        {
          "name": "stdout",
          "output_type": "stream",
          "text": [
            "epoch 189 loss 437.3134728365166\n"
          ]
        },
        {
          "name": "stderr",
          "output_type": "stream",
          "text": [
            "100%|██████████| 172/172 [00:39<00:00,  4.41it/s]\n"
          ]
        },
        {
          "name": "stdout",
          "output_type": "stream",
          "text": [
            "epoch 190 loss 437.3341955140579\n"
          ]
        },
        {
          "name": "stderr",
          "output_type": "stream",
          "text": [
            "100%|██████████| 172/172 [00:38<00:00,  4.41it/s]\n"
          ]
        },
        {
          "name": "stdout",
          "output_type": "stream",
          "text": [
            "epoch 191 loss 437.37689279955504\n"
          ]
        },
        {
          "name": "stderr",
          "output_type": "stream",
          "text": [
            "100%|██████████| 172/172 [00:38<00:00,  4.42it/s]\n"
          ]
        },
        {
          "name": "stdout",
          "output_type": "stream",
          "text": [
            "epoch 192 loss 437.34180095583883\n"
          ]
        },
        {
          "name": "stderr",
          "output_type": "stream",
          "text": [
            "100%|██████████| 172/172 [00:38<00:00,  4.47it/s]\n"
          ]
        },
        {
          "name": "stdout",
          "output_type": "stream",
          "text": [
            "epoch 193 loss 437.3203916327898\n"
          ]
        },
        {
          "name": "stderr",
          "output_type": "stream",
          "text": [
            "100%|██████████| 172/172 [00:39<00:00,  4.35it/s]\n"
          ]
        },
        {
          "name": "stdout",
          "output_type": "stream",
          "text": [
            "epoch 194 loss 437.30069608466556\n"
          ]
        },
        {
          "name": "stderr",
          "output_type": "stream",
          "text": [
            " 35%|███▌      | 61/172 [00:13<00:23,  4.75it/s]"
          ]
        }
      ],
      "source": [
        "model.train()\n",
        "MAX_EPOCHS = 200\n",
        "for epoch in range(MAX_EPOCHS):\n",
        "    running_loss = 0.0\n",
        "    torch.cuda.empty_cache()\n",
        "    for input_tensor, labels in tqdm(train_loader):\n",
        "        images = input_tensor.to(device).float()\n",
        "        labels = labels.to(device).float()\n",
        "        optimizer.zero_grad()\n",
        "        torch.cuda.empty_cache()\n",
        "        outputs = model(images)\n",
        "        loss = criterion(outputs, labels)\n",
        "        loss.backward()\n",
        "        optimizer.step()\n",
        "        torch.cuda.empty_cache()\n",
        "        running_loss += loss.item()/len(train_loader)\n",
        "    checkpoint_path = f'/content/drive/MyDrive/new_weights/continuationfrom99{epoch}.pth'\n",
        "    torch.save({\n",
        "          'epoch': epoch,\n",
        "          'model_state_dict': model.state_dict(),\n",
        "          'optimizer_state_dict': optimizer.state_dict(),\n",
        "          'train_loss': running_loss,\n",
        "      }, checkpoint_path)\n",
        "    print('epoch', epoch, 'loss', running_loss)"
      ],
      "id": "58042aeb"
    },
    {
      "cell_type": "code",
      "execution_count": 19,
      "metadata": {
        "id": "H3_IEWqhg4Lc",
        "colab": {
          "base_uri": "https://localhost:8080/"
        },
        "outputId": "bbaf4bfe-22f6-4909-9ce2-cadcf99abb45"
      },
      "outputs": [
        {
          "output_type": "execute_result",
          "data": {
            "text/plain": [
              "<All keys matched successfully>"
            ]
          },
          "metadata": {},
          "execution_count": 19
        }
      ],
      "source": [
        "PATH ='/content/drive/MyDrive/new_weights/continuationfrom99193.pth'\n",
        "checkpoint = torch.load(PATH)\n",
        "model.load_state_dict(checkpoint['model_state_dict'])"
      ],
      "id": "H3_IEWqhg4Lc"
    },
    {
      "cell_type": "code",
      "execution_count": 20,
      "metadata": {
        "id": "HHChjsPCfuYQ"
      },
      "outputs": [],
      "source": [
        "model = model.to(device)"
      ],
      "id": "HHChjsPCfuYQ"
    },
    {
      "cell_type": "code",
      "execution_count": 40,
      "metadata": {
        "colab": {
          "base_uri": "https://localhost:8080/",
          "height": 366
        },
        "id": "5d557bbb",
        "outputId": "416e119b-2987-406d-eb46-f2d99db73f53"
      },
      "outputs": [
        {
          "output_type": "display_data",
          "data": {
            "text/plain": [
              "<Figure size 640x480 with 3 Axes>"
            ],
            "image/png": "[encoded data removed]"
          },
          "metadata": {}
        }
      ],
      "source": [
        "validation_loader = torch.utils.data.DataLoader(\n",
        "    train_set, batch_size = 1, shuffle = True, num_workers = 0)\n",
        "model.eval()\n",
        "MAX_EPOCHS = 1\n",
        "for epoch in range(MAX_EPOCHS):\n",
        "    running_loss = 0.0\n",
        "    torch.cuda.empty_cache()\n",
        "    for input_tensor, labels in validation_loader:\n",
        "        #input_tensor = input_tensor.permute(0,3,1,2)\n",
        "        #labels = labels.permute(0,3,1,2)\n",
        "        images = input_tensor.to(device).float()\n",
        "        torch.cuda.empty_cache()\n",
        "        outputs = model(images)\n",
        "        break\n",
        "img_draw = np.clip((outputs[0]  .squeeze(0).permute(1, 2, 0).detach().cpu().numpy() * 255),0, 255).astype(np.uint8).copy(order='C')\n",
        "\n",
        "fig, (ax1, ax2, ax3) = plt.subplots(1, 3)\n",
        "\n",
        "ax1.imshow(input_tensor[0].permute(1,2,0))\n",
        "ax1.set_title('input')\n",
        "# plot the first subplot\n",
        "ax2.imshow(img_draw)\n",
        "ax2.set_title('predection')\n",
        "\n",
        "# plot the second subplot\n",
        "ax3.imshow(labels[0].permute(1,2,0))\n",
        "ax3.set_title('gt')\n",
        "\n",
        "# set the overall title of the figure\n",
        "fig.suptitle('output')\n",
        "# display the figure\n",
        "plt.show()"
      ],
      "id": "5d557bbb"
    },
    {
      "cell_type": "code",
      "execution_count": null,
      "metadata": {
        "id": "BD3p7-HB6bgT"
      },
      "outputs": [],
      "source": [],
      "id": "BD3p7-HB6bgT"
    }
  ],
  "metadata": {
    "accelerator": "GPU",
    "colab": {
      "provenance": [],
      "include_colab_link": true
    },
    "gpuClass": "standard",
    "kernelspec": {
      "display_name": "Python 3 (ipykernel)",
      "language": "python",
      "name": "python3"
    },
    "language_info": {
      "codemirror_mode": {
        "name": "ipython",
        "version": 3
      },
      "file_extension": ".py",
      "mimetype": "text/x-python",
      "name": "python",
      "nbconvert_exporter": "python",
      "pygments_lexer": "ipython3",
      "version": "3.9.7"
    }
  },
  "nbformat": 4,
  "nbformat_minor": 5
}